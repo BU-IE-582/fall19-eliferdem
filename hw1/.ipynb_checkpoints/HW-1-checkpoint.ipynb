{
 "cells": [
  {
   "cell_type": "code",
   "execution_count": 3,
   "metadata": {},
   "outputs": [],
   "source": [
    "# Imported Packages\n",
    "import pandas as pd\n",
    "import matplotlib.pyplot as plt\n",
    "import seaborn as sns\n",
    "import numpy as np\n",
    "from scipy.stats import  poisson"
   ]
  },
  {
   "cell_type": "code",
   "execution_count": 4,
   "metadata": {},
   "outputs": [],
   "source": [
    "#Import csv files to python as a dataframe\n",
    "bets = pd.read_csv(r\"C:\\Users\\elif.erdem\\Desktop\\Master\\IE-582\\HW-1\\bets.csv\") \n",
    "booking = pd.read_csv(r\"C:\\Users\\elif.erdem\\Desktop\\Master\\IE-582\\HW-1\\booking.csv\") \n",
    "goals = pd.read_csv(r\"C:\\Users\\elif.erdem\\Desktop\\Master\\IE-582\\HW-1\\goals.csv\") \n",
    "matches = pd.read_csv(r\"C:\\Users\\elif.erdem\\Desktop\\Master\\IE-582\\HW-1\\matches.csv\") \n",
    "stats = pd.read_csv(r\"C:\\Users\\elif.erdem\\Desktop\\Master\\IE-582\\HW-1\\stats.csv\") "
   ]
  },
  {
   "cell_type": "markdown",
   "metadata": {},
   "source": [
    "* Matches dataframe consists of the info required for Q1. Hence, this df is analyzed with describe and info detailly."
   ]
  },
  {
   "cell_type": "markdown",
   "metadata": {},
   "source": [
    "* Type of columns which are with match_status, match_hometeam_name, match_awayteam_name is not numerical.\n",
    "* Match_status, match_hometeam_score, match_awayteam_score,match_hometeam_halftime_score, match_awayteam_halftime_score,match_hometeam_extra_score, match_awayteam_extra_score, match_hometeam_penalty_score, match_awayteam_penalty_score columns have missing values.\n",
    "* match_awayteam_penalty_score , match_hometeam_penalty_score  columns can be dropped since they do not include any info.\n"
   ]
  },
  {
   "cell_type": "code",
   "execution_count": 5,
   "metadata": {},
   "outputs": [],
   "source": [
    "matches = matches.drop(columns=['match_hometeam_penalty_score', 'match_awayteam_penalty_score'])"
   ]
  },
  {
   "cell_type": "code",
   "execution_count": 6,
   "metadata": {},
   "outputs": [
    {
     "data": {
      "text/html": [
       "<div>\n",
       "<style scoped>\n",
       "    .dataframe tbody tr th:only-of-type {\n",
       "        vertical-align: middle;\n",
       "    }\n",
       "\n",
       "    .dataframe tbody tr th {\n",
       "        vertical-align: top;\n",
       "    }\n",
       "\n",
       "    .dataframe thead th {\n",
       "        text-align: right;\n",
       "    }\n",
       "</style>\n",
       "<table border=\"1\" class=\"dataframe\">\n",
       "  <thead>\n",
       "    <tr style=\"text-align: right;\">\n",
       "      <th></th>\n",
       "      <th>match_awayteam_id</th>\n",
       "      <th>match_hometeam_id</th>\n",
       "      <th>match_id</th>\n",
       "      <th>epoch</th>\n",
       "      <th>match_live</th>\n",
       "      <th>match_hometeam_score</th>\n",
       "      <th>match_awayteam_score</th>\n",
       "      <th>match_hometeam_halftime_score</th>\n",
       "      <th>match_awayteam_halftime_score</th>\n",
       "      <th>match_hometeam_extra_score</th>\n",
       "      <th>match_awayteam_extra_score</th>\n",
       "      <th>league_id</th>\n",
       "    </tr>\n",
       "  </thead>\n",
       "  <tbody>\n",
       "    <tr>\n",
       "      <th>count</th>\n",
       "      <td>5137.000000</td>\n",
       "      <td>5137.00000</td>\n",
       "      <td>5137.000000</td>\n",
       "      <td>5.137000e+03</td>\n",
       "      <td>5137.0</td>\n",
       "      <td>5073.000000</td>\n",
       "      <td>5073.000000</td>\n",
       "      <td>4711.000000</td>\n",
       "      <td>4711.000000</td>\n",
       "      <td>4711.000000</td>\n",
       "      <td>4711.000000</td>\n",
       "      <td>5137.000000</td>\n",
       "    </tr>\n",
       "    <tr>\n",
       "      <th>mean</th>\n",
       "      <td>4531.758809</td>\n",
       "      <td>4531.84232</td>\n",
       "      <td>142888.798521</td>\n",
       "      <td>1.539031e+09</td>\n",
       "      <td>0.0</td>\n",
       "      <td>1.571260</td>\n",
       "      <td>1.217426</td>\n",
       "      <td>0.673955</td>\n",
       "      <td>0.523456</td>\n",
       "      <td>0.673955</td>\n",
       "      <td>0.523456</td>\n",
       "      <td>287.737201</td>\n",
       "    </tr>\n",
       "    <tr>\n",
       "      <th>std</th>\n",
       "      <td>1942.916147</td>\n",
       "      <td>1942.99576</td>\n",
       "      <td>69741.254602</td>\n",
       "      <td>1.992203e+07</td>\n",
       "      <td>0.0</td>\n",
       "      <td>1.275102</td>\n",
       "      <td>1.172535</td>\n",
       "      <td>0.816132</td>\n",
       "      <td>0.731627</td>\n",
       "      <td>0.816132</td>\n",
       "      <td>0.731627</td>\n",
       "      <td>140.939789</td>\n",
       "    </tr>\n",
       "    <tr>\n",
       "      <th>min</th>\n",
       "      <td>2611.000000</td>\n",
       "      <td>2611.00000</td>\n",
       "      <td>13274.000000</td>\n",
       "      <td>1.505560e+09</td>\n",
       "      <td>0.0</td>\n",
       "      <td>0.000000</td>\n",
       "      <td>0.000000</td>\n",
       "      <td>0.000000</td>\n",
       "      <td>0.000000</td>\n",
       "      <td>0.000000</td>\n",
       "      <td>0.000000</td>\n",
       "      <td>148.000000</td>\n",
       "    </tr>\n",
       "    <tr>\n",
       "      <th>25%</th>\n",
       "      <td>2679.000000</td>\n",
       "      <td>2679.00000</td>\n",
       "      <td>79111.000000</td>\n",
       "      <td>1.520015e+09</td>\n",
       "      <td>0.0</td>\n",
       "      <td>1.000000</td>\n",
       "      <td>0.000000</td>\n",
       "      <td>0.000000</td>\n",
       "      <td>0.000000</td>\n",
       "      <td>0.000000</td>\n",
       "      <td>0.000000</td>\n",
       "      <td>149.000000</td>\n",
       "    </tr>\n",
       "    <tr>\n",
       "      <th>50%</th>\n",
       "      <td>4171.000000</td>\n",
       "      <td>4171.00000</td>\n",
       "      <td>146838.000000</td>\n",
       "      <td>1.541254e+09</td>\n",
       "      <td>0.0</td>\n",
       "      <td>1.000000</td>\n",
       "      <td>1.000000</td>\n",
       "      <td>0.000000</td>\n",
       "      <td>0.000000</td>\n",
       "      <td>0.000000</td>\n",
       "      <td>0.000000</td>\n",
       "      <td>262.000000</td>\n",
       "    </tr>\n",
       "    <tr>\n",
       "      <th>75%</th>\n",
       "      <td>7097.000000</td>\n",
       "      <td>7097.00000</td>\n",
       "      <td>196510.000000</td>\n",
       "      <td>1.554642e+09</td>\n",
       "      <td>0.0</td>\n",
       "      <td>2.000000</td>\n",
       "      <td>2.000000</td>\n",
       "      <td>1.000000</td>\n",
       "      <td>1.000000</td>\n",
       "      <td>1.000000</td>\n",
       "      <td>1.000000</td>\n",
       "      <td>468.000000</td>\n",
       "    </tr>\n",
       "    <tr>\n",
       "      <th>max</th>\n",
       "      <td>7670.000000</td>\n",
       "      <td>7670.00000</td>\n",
       "      <td>318015.000000</td>\n",
       "      <td>1.571512e+09</td>\n",
       "      <td>0.0</td>\n",
       "      <td>8.000000</td>\n",
       "      <td>7.000000</td>\n",
       "      <td>6.000000</td>\n",
       "      <td>5.000000</td>\n",
       "      <td>6.000000</td>\n",
       "      <td>5.000000</td>\n",
       "      <td>512.000000</td>\n",
       "    </tr>\n",
       "  </tbody>\n",
       "</table>\n",
       "</div>"
      ],
      "text/plain": [
       "       match_awayteam_id  match_hometeam_id       match_id         epoch  \\\n",
       "count        5137.000000         5137.00000    5137.000000  5.137000e+03   \n",
       "mean         4531.758809         4531.84232  142888.798521  1.539031e+09   \n",
       "std          1942.916147         1942.99576   69741.254602  1.992203e+07   \n",
       "min          2611.000000         2611.00000   13274.000000  1.505560e+09   \n",
       "25%          2679.000000         2679.00000   79111.000000  1.520015e+09   \n",
       "50%          4171.000000         4171.00000  146838.000000  1.541254e+09   \n",
       "75%          7097.000000         7097.00000  196510.000000  1.554642e+09   \n",
       "max          7670.000000         7670.00000  318015.000000  1.571512e+09   \n",
       "\n",
       "       match_live  match_hometeam_score  match_awayteam_score  \\\n",
       "count      5137.0           5073.000000           5073.000000   \n",
       "mean          0.0              1.571260              1.217426   \n",
       "std           0.0              1.275102              1.172535   \n",
       "min           0.0              0.000000              0.000000   \n",
       "25%           0.0              1.000000              0.000000   \n",
       "50%           0.0              1.000000              1.000000   \n",
       "75%           0.0              2.000000              2.000000   \n",
       "max           0.0              8.000000              7.000000   \n",
       "\n",
       "       match_hometeam_halftime_score  match_awayteam_halftime_score  \\\n",
       "count                    4711.000000                    4711.000000   \n",
       "mean                        0.673955                       0.523456   \n",
       "std                         0.816132                       0.731627   \n",
       "min                         0.000000                       0.000000   \n",
       "25%                         0.000000                       0.000000   \n",
       "50%                         0.000000                       0.000000   \n",
       "75%                         1.000000                       1.000000   \n",
       "max                         6.000000                       5.000000   \n",
       "\n",
       "       match_hometeam_extra_score  match_awayteam_extra_score    league_id  \n",
       "count                 4711.000000                 4711.000000  5137.000000  \n",
       "mean                     0.673955                    0.523456   287.737201  \n",
       "std                      0.816132                    0.731627   140.939789  \n",
       "min                      0.000000                    0.000000   148.000000  \n",
       "25%                      0.000000                    0.000000   149.000000  \n",
       "50%                      0.000000                    0.000000   262.000000  \n",
       "75%                      1.000000                    1.000000   468.000000  \n",
       "max                      6.000000                    5.000000   512.000000  "
      ]
     },
     "execution_count": 6,
     "metadata": {},
     "output_type": "execute_result"
    }
   ],
   "source": [
    "matches.describe()"
   ]
  },
  {
   "cell_type": "markdown",
   "metadata": {},
   "source": [
    "* Columns that are match_hometeam_score, match_awayteam_score, match_hometeam_halftime_score, match_awayteam_halftime_score, match_hometeam_extra_score, match_awayteam_extra_score analyzed min, max and mean values to analyze outliers"
   ]
  },
  {
   "cell_type": "markdown",
   "metadata": {},
   "source": [
    "- English premier league is analyzed for the Q1. Hence, the raw data is limited for the LeagueId=148(EnglishPremier)"
   ]
  },
  {
   "cell_type": "code",
   "execution_count": 7,
   "metadata": {},
   "outputs": [],
   "source": [
    "matches_premier= matches[matches['league_id']==148]"
   ]
  },
  {
   "cell_type": "code",
   "execution_count": 8,
   "metadata": {},
   "outputs": [
    {
     "data": {
      "text/html": [
       "<div>\n",
       "<style scoped>\n",
       "    .dataframe tbody tr th:only-of-type {\n",
       "        vertical-align: middle;\n",
       "    }\n",
       "\n",
       "    .dataframe tbody tr th {\n",
       "        vertical-align: top;\n",
       "    }\n",
       "\n",
       "    .dataframe thead th {\n",
       "        text-align: right;\n",
       "    }\n",
       "</style>\n",
       "<table border=\"1\" class=\"dataframe\">\n",
       "  <thead>\n",
       "    <tr style=\"text-align: right;\">\n",
       "      <th></th>\n",
       "      <th>match_awayteam_id</th>\n",
       "      <th>match_hometeam_id</th>\n",
       "      <th>match_id</th>\n",
       "      <th>epoch</th>\n",
       "      <th>match_status</th>\n",
       "      <th>match_live</th>\n",
       "      <th>match_hometeam_name</th>\n",
       "      <th>match_awayteam_name</th>\n",
       "      <th>match_hometeam_score</th>\n",
       "      <th>match_awayteam_score</th>\n",
       "      <th>match_hometeam_halftime_score</th>\n",
       "      <th>match_awayteam_halftime_score</th>\n",
       "      <th>match_hometeam_extra_score</th>\n",
       "      <th>match_awayteam_extra_score</th>\n",
       "      <th>league_id</th>\n",
       "    </tr>\n",
       "  </thead>\n",
       "  <tbody>\n",
       "    <tr>\n",
       "      <th>1</th>\n",
       "      <td>2614</td>\n",
       "      <td>2619</td>\n",
       "      <td>13331</td>\n",
       "      <td>1505561400</td>\n",
       "      <td>Finished</td>\n",
       "      <td>0</td>\n",
       "      <td>Crystal Palace</td>\n",
       "      <td>Southampton</td>\n",
       "      <td>0.0</td>\n",
       "      <td>1.0</td>\n",
       "      <td>0.0</td>\n",
       "      <td>1.0</td>\n",
       "      <td>0.0</td>\n",
       "      <td>1.0</td>\n",
       "      <td>148</td>\n",
       "    </tr>\n",
       "    <tr>\n",
       "      <th>5</th>\n",
       "      <td>2626</td>\n",
       "      <td>2623</td>\n",
       "      <td>13329</td>\n",
       "      <td>1505570400</td>\n",
       "      <td>Finished</td>\n",
       "      <td>0</td>\n",
       "      <td>Watford</td>\n",
       "      <td>Manchester City</td>\n",
       "      <td>0.0</td>\n",
       "      <td>6.0</td>\n",
       "      <td>0.0</td>\n",
       "      <td>3.0</td>\n",
       "      <td>0.0</td>\n",
       "      <td>3.0</td>\n",
       "      <td>148</td>\n",
       "    </tr>\n",
       "  </tbody>\n",
       "</table>\n",
       "</div>"
      ],
      "text/plain": [
       "   match_awayteam_id  match_hometeam_id  match_id       epoch match_status  \\\n",
       "1               2614               2619     13331  1505561400     Finished   \n",
       "5               2626               2623     13329  1505570400     Finished   \n",
       "\n",
       "   match_live match_hometeam_name match_awayteam_name  match_hometeam_score  \\\n",
       "1           0      Crystal Palace         Southampton                   0.0   \n",
       "5           0             Watford     Manchester City                   0.0   \n",
       "\n",
       "   match_awayteam_score  match_hometeam_halftime_score  \\\n",
       "1                   1.0                            0.0   \n",
       "5                   6.0                            0.0   \n",
       "\n",
       "   match_awayteam_halftime_score  match_hometeam_extra_score  \\\n",
       "1                            1.0                         0.0   \n",
       "5                            3.0                         0.0   \n",
       "\n",
       "   match_awayteam_extra_score  league_id  \n",
       "1                         1.0        148  \n",
       "5                         3.0        148  "
      ]
     },
     "execution_count": 8,
     "metadata": {},
     "output_type": "execute_result"
    }
   ],
   "source": [
    "matches_premier.head(2)"
   ]
  },
  {
   "cell_type": "code",
   "execution_count": 9,
   "metadata": {},
   "outputs": [
    {
     "name": "stdout",
     "output_type": "stream",
     "text": [
      "<class 'pandas.core.frame.DataFrame'>\n",
      "Int64Index: 628 entries, 1 to 5118\n",
      "Data columns (total 15 columns):\n",
      "match_awayteam_id                628 non-null int64\n",
      "match_hometeam_id                628 non-null int64\n",
      "match_id                         628 non-null int64\n",
      "epoch                            628 non-null int64\n",
      "match_status                     618 non-null object\n",
      "match_live                       628 non-null int64\n",
      "match_hometeam_name              628 non-null object\n",
      "match_awayteam_name              628 non-null object\n",
      "match_hometeam_score             618 non-null float64\n",
      "match_awayteam_score             618 non-null float64\n",
      "match_hometeam_halftime_score    569 non-null float64\n",
      "match_awayteam_halftime_score    569 non-null float64\n",
      "match_hometeam_extra_score       569 non-null float64\n",
      "match_awayteam_extra_score       569 non-null float64\n",
      "league_id                        628 non-null int64\n",
      "dtypes: float64(6), int64(6), object(3)\n",
      "memory usage: 78.5+ KB\n"
     ]
    }
   ],
   "source": [
    "matches_premier.info()"
   ]
  },
  {
   "cell_type": "code",
   "execution_count": 10,
   "metadata": {},
   "outputs": [],
   "source": [
    "matches_premier = matches_premier[matches_premier['match_status']=='Finished']"
   ]
  },
  {
   "cell_type": "markdown",
   "metadata": {},
   "source": [
    "* Match_satus=Finished is selected"
   ]
  },
  {
   "cell_type": "code",
   "execution_count": 11,
   "metadata": {},
   "outputs": [
    {
     "data": {
      "text/plain": [
       "array([False])"
      ]
     },
     "execution_count": 11,
     "metadata": {},
     "output_type": "execute_result"
    }
   ],
   "source": [
    "matches_premier = matches_premier.drop_duplicates()\n",
    "matches_premier['match_id'].duplicated().unique()"
   ]
  },
  {
   "cell_type": "markdown",
   "metadata": {},
   "source": [
    "* Duplicate values and NAN values ara dropped."
   ]
  },
  {
   "cell_type": "code",
   "execution_count": 12,
   "metadata": {},
   "outputs": [
    {
     "data": {
      "text/plain": [
       "(618, 15)"
      ]
     },
     "execution_count": 12,
     "metadata": {},
     "output_type": "execute_result"
    }
   ],
   "source": [
    "matches_premier.shape"
   ]
  },
  {
   "cell_type": "code",
   "execution_count": 13,
   "metadata": {},
   "outputs": [],
   "source": [
    "matches_premier = matches_premier[matches_premier['match_hometeam_score'].notnull()]"
   ]
  },
  {
   "cell_type": "code",
   "execution_count": 14,
   "metadata": {},
   "outputs": [],
   "source": [
    "matches_premier = matches_premier[matches_premier['match_awayteam_score'].notnull()]"
   ]
  },
  {
   "cell_type": "markdown",
   "metadata": {},
   "source": [
    "* Each match must contain scores"
   ]
  },
  {
   "cell_type": "code",
   "execution_count": 15,
   "metadata": {},
   "outputs": [
    {
     "data": {
      "text/plain": [
       "Index(['match_awayteam_id', 'match_hometeam_id', 'match_id', 'epoch',\n",
       "       'match_status', 'match_live', 'match_hometeam_name',\n",
       "       'match_awayteam_name', 'match_hometeam_score', 'match_awayteam_score',\n",
       "       'match_hometeam_halftime_score', 'match_awayteam_halftime_score',\n",
       "       'match_hometeam_extra_score', 'match_awayteam_extra_score',\n",
       "       'league_id'],\n",
       "      dtype='object')"
      ]
     },
     "execution_count": 15,
     "metadata": {},
     "output_type": "execute_result"
    }
   ],
   "source": [
    "matches_premier.columns"
   ]
  },
  {
   "cell_type": "code",
   "execution_count": 16,
   "metadata": {},
   "outputs": [],
   "source": [
    "matches_premier_control = matches_premier.groupby(['match_id']).count()"
   ]
  },
  {
   "cell_type": "code",
   "execution_count": 17,
   "metadata": {},
   "outputs": [
    {
     "data": {
      "text/plain": [
       "(618, 14)"
      ]
     },
     "execution_count": 17,
     "metadata": {},
     "output_type": "execute_result"
    }
   ],
   "source": [
    "matches_premier_control.shape"
   ]
  },
  {
   "cell_type": "markdown",
   "metadata": {},
   "source": [
    "* Data is singuler based of match_id."
   ]
  },
  {
   "cell_type": "code",
   "execution_count": 18,
   "metadata": {},
   "outputs": [],
   "source": [
    "matches_premier = matches_premier[['match_id', 'match_hometeam_score', 'match_awayteam_score', 'match_hometeam_extra_score', 'match_awayteam_extra_score']]"
   ]
  },
  {
   "cell_type": "code",
   "execution_count": 19,
   "metadata": {},
   "outputs": [],
   "source": [
    "matches_premier['difference'] =  matches_premier['match_hometeam_score'] -  matches_premier['match_awayteam_score']"
   ]
  },
  {
   "cell_type": "markdown",
   "metadata": {},
   "source": [
    "* Only neccessary columns are selected"
   ]
  },
  {
   "cell_type": "code",
   "execution_count": 20,
   "metadata": {},
   "outputs": [
    {
     "data": {
      "text/html": [
       "<div>\n",
       "<style scoped>\n",
       "    .dataframe tbody tr th:only-of-type {\n",
       "        vertical-align: middle;\n",
       "    }\n",
       "\n",
       "    .dataframe tbody tr th {\n",
       "        vertical-align: top;\n",
       "    }\n",
       "\n",
       "    .dataframe thead th {\n",
       "        text-align: right;\n",
       "    }\n",
       "</style>\n",
       "<table border=\"1\" class=\"dataframe\">\n",
       "  <thead>\n",
       "    <tr style=\"text-align: right;\">\n",
       "      <th></th>\n",
       "      <th>match_id</th>\n",
       "      <th>match_hometeam_score</th>\n",
       "      <th>match_awayteam_score</th>\n",
       "      <th>match_hometeam_extra_score</th>\n",
       "      <th>match_awayteam_extra_score</th>\n",
       "      <th>difference</th>\n",
       "    </tr>\n",
       "  </thead>\n",
       "  <tbody>\n",
       "    <tr>\n",
       "      <th>count</th>\n",
       "      <td>618.000000</td>\n",
       "      <td>618.000000</td>\n",
       "      <td>618.000000</td>\n",
       "      <td>569.000000</td>\n",
       "      <td>569.000000</td>\n",
       "      <td>618.000000</td>\n",
       "    </tr>\n",
       "    <tr>\n",
       "      <th>mean</th>\n",
       "      <td>134960.289644</td>\n",
       "      <td>1.601942</td>\n",
       "      <td>1.228155</td>\n",
       "      <td>0.687170</td>\n",
       "      <td>0.555360</td>\n",
       "      <td>0.373786</td>\n",
       "    </tr>\n",
       "    <tr>\n",
       "      <th>std</th>\n",
       "      <td>63490.631354</td>\n",
       "      <td>1.314474</td>\n",
       "      <td>1.181180</td>\n",
       "      <td>0.884447</td>\n",
       "      <td>0.765113</td>\n",
       "      <td>1.889429</td>\n",
       "    </tr>\n",
       "    <tr>\n",
       "      <th>min</th>\n",
       "      <td>13274.000000</td>\n",
       "      <td>0.000000</td>\n",
       "      <td>0.000000</td>\n",
       "      <td>0.000000</td>\n",
       "      <td>0.000000</td>\n",
       "      <td>-6.000000</td>\n",
       "    </tr>\n",
       "    <tr>\n",
       "      <th>25%</th>\n",
       "      <td>75030.750000</td>\n",
       "      <td>1.000000</td>\n",
       "      <td>0.000000</td>\n",
       "      <td>0.000000</td>\n",
       "      <td>0.000000</td>\n",
       "      <td>-1.000000</td>\n",
       "    </tr>\n",
       "    <tr>\n",
       "      <th>50%</th>\n",
       "      <td>145185.000000</td>\n",
       "      <td>1.000000</td>\n",
       "      <td>1.000000</td>\n",
       "      <td>0.000000</td>\n",
       "      <td>0.000000</td>\n",
       "      <td>0.000000</td>\n",
       "    </tr>\n",
       "    <tr>\n",
       "      <th>75%</th>\n",
       "      <td>183814.750000</td>\n",
       "      <td>2.000000</td>\n",
       "      <td>2.000000</td>\n",
       "      <td>1.000000</td>\n",
       "      <td>1.000000</td>\n",
       "      <td>2.000000</td>\n",
       "    </tr>\n",
       "    <tr>\n",
       "      <th>max</th>\n",
       "      <td>307209.000000</td>\n",
       "      <td>8.000000</td>\n",
       "      <td>6.000000</td>\n",
       "      <td>5.000000</td>\n",
       "      <td>3.000000</td>\n",
       "      <td>8.000000</td>\n",
       "    </tr>\n",
       "  </tbody>\n",
       "</table>\n",
       "</div>"
      ],
      "text/plain": [
       "            match_id  match_hometeam_score  match_awayteam_score  \\\n",
       "count     618.000000            618.000000            618.000000   \n",
       "mean   134960.289644              1.601942              1.228155   \n",
       "std     63490.631354              1.314474              1.181180   \n",
       "min     13274.000000              0.000000              0.000000   \n",
       "25%     75030.750000              1.000000              0.000000   \n",
       "50%    145185.000000              1.000000              1.000000   \n",
       "75%    183814.750000              2.000000              2.000000   \n",
       "max    307209.000000              8.000000              6.000000   \n",
       "\n",
       "       match_hometeam_extra_score  match_awayteam_extra_score  difference  \n",
       "count                  569.000000                  569.000000  618.000000  \n",
       "mean                     0.687170                    0.555360    0.373786  \n",
       "std                      0.884447                    0.765113    1.889429  \n",
       "min                      0.000000                    0.000000   -6.000000  \n",
       "25%                      0.000000                    0.000000   -1.000000  \n",
       "50%                      0.000000                    0.000000    0.000000  \n",
       "75%                      1.000000                    1.000000    2.000000  \n",
       "max                      5.000000                    3.000000    8.000000  "
      ]
     },
     "execution_count": 20,
     "metadata": {},
     "output_type": "execute_result"
    }
   ],
   "source": [
    "matches_premier.describe()"
   ]
  },
  {
   "cell_type": "code",
   "execution_count": 21,
   "metadata": {},
   "outputs": [
    {
     "data": {
      "text/plain": [
       "618"
      ]
     },
     "execution_count": 21,
     "metadata": {},
     "output_type": "execute_result"
    }
   ],
   "source": [
    "matches_premier['match_hometeam_score'].size"
   ]
  },
  {
   "cell_type": "markdown",
   "metadata": {},
   "source": [
    "# Task 1 "
   ]
  },
  {
   "cell_type": "code",
   "execution_count": 22,
   "metadata": {},
   "outputs": [],
   "source": [
    "mean =int( matches_premier['match_hometeam_score'].mean())"
   ]
  },
  {
   "cell_type": "code",
   "execution_count": 23,
   "metadata": {},
   "outputs": [],
   "source": [
    "size= int(matches_premier['match_hometeam_score'].size)"
   ]
  },
  {
   "cell_type": "code",
   "execution_count": 24,
   "metadata": {},
   "outputs": [],
   "source": [
    "bins_home =int( matches_premier['match_hometeam_score'].max())"
   ]
  },
  {
   "cell_type": "code",
   "execution_count": 25,
   "metadata": {},
   "outputs": [],
   "source": [
    "range_min_home= int(matches_premier['match_hometeam_score'].min())"
   ]
  },
  {
   "cell_type": "code",
   "execution_count": 28,
   "metadata": {},
   "outputs": [
    {
     "data": {
      "text/plain": [
       "Text(0, 0.5, 'Number of Games')"
      ]
     },
     "execution_count": 28,
     "metadata": {},
     "output_type": "execute_result"
    },
    {
     "data": {
      "image/png": "[encoded data removed]",
      "text/plain": [
       "<Figure size 432x288 with 1 Axes>"
      ]
     },
     "metadata": {
      "needs_background": "light"
     },
     "output_type": "display_data"
    }
   ],
   "source": [
    "sns.distplot(matches_premier.match_hometeam_score, kde=False, bins = bins_home) ## bins= max(match_hometeam_score)\n",
    "poissonpmf = np.histogram(np.random.poisson(lam =mean, size = size),\n",
    "                            bins=bins_home, range=(range_min_home, bins_home))\n",
    "plt.plot(poissonpmf[0])\n",
    "plt.xlabel('Home Goals')\n",
    "plt.ylabel('Number of Games')"
   ]
  },
  {
   "cell_type": "code",
   "execution_count": 29,
   "metadata": {},
   "outputs": [],
   "source": [
    "bins_away =int( matches_premier['match_awayteam_score'].max())"
   ]
  },
  {
   "cell_type": "code",
   "execution_count": 30,
   "metadata": {},
   "outputs": [],
   "source": [
    "size_away= int(matches_premier['match_awayteam_score'].size)"
   ]
  },
  {
   "cell_type": "code",
   "execution_count": 31,
   "metadata": {},
   "outputs": [],
   "source": [
    "mean_away =int( matches_premier['match_awayteam_score'].mean())"
   ]
  },
  {
   "cell_type": "code",
   "execution_count": 32,
   "metadata": {},
   "outputs": [],
   "source": [
    "range_min_away= int(matches_premier['match_awayteam_score'].min())"
   ]
  },
  {
   "cell_type": "code",
   "execution_count": 33,
   "metadata": {},
   "outputs": [
    {
     "data": {
      "text/plain": [
       "Text(0, 0.5, 'Number of Games')"
      ]
     },
     "execution_count": 33,
     "metadata": {},
     "output_type": "execute_result"
    },
    {
     "data": {
      "image/png": "[encoded data removed]",
      "text/plain": [
       "<Figure size 432x288 with 1 Axes>"
      ]
     },
     "metadata": {
      "needs_background": "light"
     },
     "output_type": "display_data"
    }
   ],
   "source": [
    "sns.distplot(matches_premier.match_awayteam_score, kde=False, bins = bins_away)#bins=max(match_awayteam_score)\n",
    "poissonpmf = np.histogram(np.random.poisson(lam =mean_away, size = size_away),\n",
    "                            bins=bins_away, range=(range_min_away, bins_away))\n",
    "plt.plot(poissonpmf[0])\n",
    "plt.xlabel('Away Goals')\n",
    "plt.ylabel('Number of Games')\n"
   ]
  },
  {
   "cell_type": "code",
   "execution_count": 34,
   "metadata": {},
   "outputs": [
    {
     "data": {
      "text/plain": [
       "Text(0, 0.5, 'Number of Games')"
      ]
     },
     "execution_count": 34,
     "metadata": {},
     "output_type": "execute_result"
    },
    {
     "data": {
      "image/png": "[encoded data removed]",
      "text/plain": [
       "<Figure size 432x288 with 1 Axes>"
      ]
     },
     "metadata": {
      "needs_background": "light"
     },
     "output_type": "display_data"
    }
   ],
   "source": [
    "sns.distplot(matches_premier.difference, kde=False, bins = 8) ##bins =  max(match_hometeam_score) - min(match_awayteam_score)\n",
    "plt.xlabel('Home-Away')\n",
    "plt.ylabel('Number of Games')"
   ]
  },
  {
   "cell_type": "markdown",
   "metadata": {},
   "source": [
    "# Task - 2"
   ]
  },
  {
   "cell_type": "code",
   "execution_count": 35,
   "metadata": {},
   "outputs": [],
   "source": [
    "bets = bets[bets[\"odd_bookmakers\"].isin(['10Bet', 'bwin', 'Unibet', 'Marathonbet'])]"
   ]
  },
  {
   "cell_type": "code",
   "execution_count": 36,
   "metadata": {},
   "outputs": [],
   "source": [
    "bets = bets[bets['variable'].isin(['odd_1', 'odd_x', 'odd_2'])]"
   ]
  },
  {
   "cell_type": "code",
   "execution_count": 37,
   "metadata": {},
   "outputs": [
    {
     "name": "stdout",
     "output_type": "stream",
     "text": [
      "<class 'pandas.core.frame.DataFrame'>\n",
      "Int64Index: 31713 entries, 1 to 2118461\n",
      "Data columns (total 5 columns):\n",
      "match_id          31713 non-null int64\n",
      "odd_bookmakers    31713 non-null object\n",
      "odd_epoch         31713 non-null int64\n",
      "variable          31713 non-null object\n",
      "value             31713 non-null float64\n",
      "dtypes: float64(1), int64(2), object(2)\n",
      "memory usage: 1.5+ MB\n"
     ]
    }
   ],
   "source": [
    "bets.info()"
   ]
  },
  {
   "cell_type": "markdown",
   "metadata": {},
   "source": [
    "* There is no NaN value"
   ]
  },
  {
   "cell_type": "code",
   "execution_count": 38,
   "metadata": {},
   "outputs": [
    {
     "data": {
      "text/html": [
       "<div>\n",
       "<style scoped>\n",
       "    .dataframe tbody tr th:only-of-type {\n",
       "        vertical-align: middle;\n",
       "    }\n",
       "\n",
       "    .dataframe tbody tr th {\n",
       "        vertical-align: top;\n",
       "    }\n",
       "\n",
       "    .dataframe thead th {\n",
       "        text-align: right;\n",
       "    }\n",
       "</style>\n",
       "<table border=\"1\" class=\"dataframe\">\n",
       "  <thead>\n",
       "    <tr style=\"text-align: right;\">\n",
       "      <th></th>\n",
       "      <th>match_id</th>\n",
       "      <th>odd_epoch</th>\n",
       "      <th>value</th>\n",
       "    </tr>\n",
       "  </thead>\n",
       "  <tbody>\n",
       "    <tr>\n",
       "      <th>count</th>\n",
       "      <td>31713.000000</td>\n",
       "      <td>3.171300e+04</td>\n",
       "      <td>31713.000000</td>\n",
       "    </tr>\n",
       "    <tr>\n",
       "      <th>mean</th>\n",
       "      <td>203653.726611</td>\n",
       "      <td>1.541379e+09</td>\n",
       "      <td>3.600759</td>\n",
       "    </tr>\n",
       "    <tr>\n",
       "      <th>std</th>\n",
       "      <td>34813.350460</td>\n",
       "      <td>2.692774e+07</td>\n",
       "      <td>2.424750</td>\n",
       "    </tr>\n",
       "    <tr>\n",
       "      <th>min</th>\n",
       "      <td>145899.000000</td>\n",
       "      <td>1.486315e+09</td>\n",
       "      <td>1.020000</td>\n",
       "    </tr>\n",
       "    <tr>\n",
       "      <th>25%</th>\n",
       "      <td>172366.000000</td>\n",
       "      <td>1.509548e+09</td>\n",
       "      <td>2.300000</td>\n",
       "    </tr>\n",
       "    <tr>\n",
       "      <th>50%</th>\n",
       "      <td>198611.000000</td>\n",
       "      <td>1.550907e+09</td>\n",
       "      <td>3.200000</td>\n",
       "    </tr>\n",
       "    <tr>\n",
       "      <th>75%</th>\n",
       "      <td>227535.000000</td>\n",
       "      <td>1.564154e+09</td>\n",
       "      <td>3.900000</td>\n",
       "    </tr>\n",
       "    <tr>\n",
       "      <th>max</th>\n",
       "      <td>317867.000000</td>\n",
       "      <td>1.570729e+09</td>\n",
       "      <td>34.000000</td>\n",
       "    </tr>\n",
       "  </tbody>\n",
       "</table>\n",
       "</div>"
      ],
      "text/plain": [
       "            match_id     odd_epoch         value\n",
       "count   31713.000000  3.171300e+04  31713.000000\n",
       "mean   203653.726611  1.541379e+09      3.600759\n",
       "std     34813.350460  2.692774e+07      2.424750\n",
       "min    145899.000000  1.486315e+09      1.020000\n",
       "25%    172366.000000  1.509548e+09      2.300000\n",
       "50%    198611.000000  1.550907e+09      3.200000\n",
       "75%    227535.000000  1.564154e+09      3.900000\n",
       "max    317867.000000  1.570729e+09     34.000000"
      ]
     },
     "execution_count": 38,
     "metadata": {},
     "output_type": "execute_result"
    }
   ],
   "source": [
    "bets.describe()"
   ]
  },
  {
   "cell_type": "markdown",
   "metadata": {},
   "source": [
    "* especially values columns are analyzed in spite of min, max or mean"
   ]
  },
  {
   "cell_type": "code",
   "execution_count": 39,
   "metadata": {},
   "outputs": [],
   "source": [
    "bets_maxepoch = bets.groupby(['match_id', 'odd_bookmakers', 'variable'])['odd_epoch'].max().reset_index()"
   ]
  },
  {
   "cell_type": "code",
   "execution_count": 40,
   "metadata": {},
   "outputs": [
    {
     "data": {
      "text/html": [
       "<div>\n",
       "<style scoped>\n",
       "    .dataframe tbody tr th:only-of-type {\n",
       "        vertical-align: middle;\n",
       "    }\n",
       "\n",
       "    .dataframe tbody tr th {\n",
       "        vertical-align: top;\n",
       "    }\n",
       "\n",
       "    .dataframe thead th {\n",
       "        text-align: right;\n",
       "    }\n",
       "</style>\n",
       "<table border=\"1\" class=\"dataframe\">\n",
       "  <thead>\n",
       "    <tr style=\"text-align: right;\">\n",
       "      <th></th>\n",
       "      <th>match_id</th>\n",
       "      <th>odd_bookmakers</th>\n",
       "      <th>variable</th>\n",
       "      <th>odd_epoch</th>\n",
       "    </tr>\n",
       "  </thead>\n",
       "  <tbody>\n",
       "    <tr>\n",
       "      <th>0</th>\n",
       "      <td>145899</td>\n",
       "      <td>10Bet</td>\n",
       "      <td>odd_1</td>\n",
       "      <td>1489305781</td>\n",
       "    </tr>\n",
       "    <tr>\n",
       "      <th>1</th>\n",
       "      <td>145899</td>\n",
       "      <td>10Bet</td>\n",
       "      <td>odd_2</td>\n",
       "      <td>1489305781</td>\n",
       "    </tr>\n",
       "  </tbody>\n",
       "</table>\n",
       "</div>"
      ],
      "text/plain": [
       "   match_id odd_bookmakers variable   odd_epoch\n",
       "0    145899          10Bet    odd_1  1489305781\n",
       "1    145899          10Bet    odd_2  1489305781"
      ]
     },
     "execution_count": 40,
     "metadata": {},
     "output_type": "execute_result"
    }
   ],
   "source": [
    "bets_maxepoch.head(2)"
   ]
  },
  {
   "cell_type": "code",
   "execution_count": 41,
   "metadata": {},
   "outputs": [
    {
     "data": {
      "text/html": [
       "<div>\n",
       "<style scoped>\n",
       "    .dataframe tbody tr th:only-of-type {\n",
       "        vertical-align: middle;\n",
       "    }\n",
       "\n",
       "    .dataframe tbody tr th {\n",
       "        vertical-align: top;\n",
       "    }\n",
       "\n",
       "    .dataframe thead th {\n",
       "        text-align: right;\n",
       "    }\n",
       "</style>\n",
       "<table border=\"1\" class=\"dataframe\">\n",
       "  <thead>\n",
       "    <tr style=\"text-align: right;\">\n",
       "      <th></th>\n",
       "      <th>match_id</th>\n",
       "      <th>odd_bookmakers</th>\n",
       "      <th>odd_epoch</th>\n",
       "      <th>variable</th>\n",
       "      <th>value</th>\n",
       "    </tr>\n",
       "  </thead>\n",
       "  <tbody>\n",
       "    <tr>\n",
       "      <th>1</th>\n",
       "      <td>151780</td>\n",
       "      <td>10Bet</td>\n",
       "      <td>1486314920</td>\n",
       "      <td>odd_1</td>\n",
       "      <td>2.15</td>\n",
       "    </tr>\n",
       "    <tr>\n",
       "      <th>10</th>\n",
       "      <td>151780</td>\n",
       "      <td>bwin</td>\n",
       "      <td>1486314920</td>\n",
       "      <td>odd_1</td>\n",
       "      <td>2.15</td>\n",
       "    </tr>\n",
       "  </tbody>\n",
       "</table>\n",
       "</div>"
      ],
      "text/plain": [
       "    match_id odd_bookmakers   odd_epoch variable  value\n",
       "1     151780          10Bet  1486314920    odd_1   2.15\n",
       "10    151780           bwin  1486314920    odd_1   2.15"
      ]
     },
     "execution_count": 41,
     "metadata": {},
     "output_type": "execute_result"
    }
   ],
   "source": [
    "bets.head(2)"
   ]
  },
  {
   "cell_type": "code",
   "execution_count": 42,
   "metadata": {},
   "outputs": [],
   "source": [
    "bets = pd.merge (bets,bets_maxepoch, how='right', on=bets_maxepoch.columns.tolist())"
   ]
  },
  {
   "cell_type": "code",
   "execution_count": 43,
   "metadata": {},
   "outputs": [],
   "source": [
    "bets_control = bets.groupby(['match_id', 'odd_bookmakers', 'odd_epoch', 'variable']).count()"
   ]
  },
  {
   "cell_type": "markdown",
   "metadata": {},
   "source": [
    " * Data must be singular based on matchid, odd_bookmakers,odd_epoch, variable"
   ]
  },
  {
   "cell_type": "markdown",
   "metadata": {},
   "source": [
    "* Based on match_id, odd_bookmakers, odd_epoch must be 3 type of variable and 3 row count"
   ]
  },
  {
   "cell_type": "code",
   "execution_count": 44,
   "metadata": {},
   "outputs": [],
   "source": [
    "bets_pivot = pd.pivot_table(bets,index=['match_id','odd_bookmakers','odd_epoch'] ,columns='variable',values='value').reset_index()"
   ]
  },
  {
   "cell_type": "code",
   "execution_count": 45,
   "metadata": {},
   "outputs": [],
   "source": [
    "bets_pivot['prob_odd_1'] = 1/bets_pivot['odd_1']\n",
    "bets_pivot['prob_odd_x'] = 1/bets_pivot['odd_x']\n",
    "bets_pivot['prob_odd_2'] = 1/bets_pivot['odd_2']"
   ]
  },
  {
   "cell_type": "code",
   "execution_count": 46,
   "metadata": {},
   "outputs": [],
   "source": [
    "bets_pivot['normalization'] = bets_pivot['prob_odd_1'] + bets_pivot['prob_odd_x'] + bets_pivot['prob_odd_2']"
   ]
  },
  {
   "cell_type": "code",
   "execution_count": 47,
   "metadata": {},
   "outputs": [],
   "source": [
    "bets_pivot['norm_odd_1'] = bets_pivot['prob_odd_1'] / bets_pivot['normalization']\n",
    "bets_pivot['norm_odd_2'] = bets_pivot['prob_odd_2'] / bets_pivot['normalization']\n",
    "bets_pivot['norm_odd_x'] = bets_pivot['prob_odd_x'] / bets_pivot['normalization']"
   ]
  },
  {
   "cell_type": "code",
   "execution_count": 48,
   "metadata": {},
   "outputs": [],
   "source": [
    "bets_pivot = pd.merge(matches_premier, bets_pivot, how='inner', on='match_id')[bets_pivot.columns.tolist() + ['match_hometeam_score', 'match_awayteam_score', 'match_hometeam_extra_score', 'match_awayteam_extra_score']]"
   ]
  },
  {
   "cell_type": "code",
   "execution_count": 49,
   "metadata": {},
   "outputs": [],
   "source": [
    "bets_pivot['home -win'] = bets_pivot['prob_odd_1'] -  bets_pivot['prob_odd_2']\n"
   ]
  },
  {
   "cell_type": "code",
   "execution_count": 50,
   "metadata": {},
   "outputs": [],
   "source": [
    "bets_pivot['draw_flag'] = np.where(bets_pivot.match_hometeam_score - bets_pivot.match_awayteam_score==0, 1, 0)"
   ]
  },
  {
   "cell_type": "code",
   "execution_count": 51,
   "metadata": {},
   "outputs": [],
   "source": [
    "bin_data = bets_pivot[bets_pivot['odd_bookmakers']=='Marathonbet'][['home -win', 'draw_flag']]\n",
    "bins = [-1, -0.75, -0.5, -0.25, 0, 0.25, 0.5, 0.75, 1]\n",
    "bin_data['range'] = pd.cut(bin_data['home -win'], bins=[-1, -0.75, -0.5, -0.25, 0, 0.25, 0.5, 0.75, 1], right=True, labels=False)+1"
   ]
  },
  {
   "cell_type": "code",
   "execution_count": 52,
   "metadata": {},
   "outputs": [],
   "source": [
    "actual = bin_data.groupby(['range']).sum()/bin_data.groupby(['range']).count()"
   ]
  },
  {
   "cell_type": "code",
   "execution_count": 53,
   "metadata": {},
   "outputs": [],
   "source": [
    "bin_ranges = []\n",
    "for i in range(len(bins)-1):\n",
    "    bin_ranges.append((bins[i]+ bins[i+1])/2)"
   ]
  },
  {
   "cell_type": "code",
   "execution_count": 54,
   "metadata": {
    "scrolled": true
   },
   "outputs": [
    {
     "data": {
      "text/plain": [
       "[<matplotlib.lines.Line2D at 0x1a93a38b860>]"
      ]
     },
     "execution_count": 54,
     "metadata": {},
     "output_type": "execute_result"
    },
    {
     "data": {
      "image/png": "[encoded data removed]",
      "text/plain": [
       "<Figure size 432x288 with 1 Axes>"
      ]
     },
     "metadata": {
      "needs_background": "light"
     },
     "output_type": "display_data"
    }
   ],
   "source": [
    "ax = sns.scatterplot(x=\"home -win\", \n",
    "                       y=\"norm_odd_x\",\n",
    "                       data=bets_pivot[bets_pivot['odd_bookmakers']=='Marathonbet']).set_title('MarathonBet', fontsize = 15)\n",
    "\n",
    "plt.plot(bin_ranges,actual['draw_flag'],'co-',\n",
    "             alpha=1)"
   ]
  },
  {
   "cell_type": "code",
   "execution_count": 55,
   "metadata": {},
   "outputs": [
    {
     "data": {
      "image/png": "[encoded data removed]",
      "text/plain": [
       "<Figure size 432x288 with 1 Axes>"
      ]
     },
     "metadata": {
      "needs_background": "light"
     },
     "output_type": "display_data"
    }
   ],
   "source": [
    "ax = sns.scatterplot(x=\"home -win\", \n",
    "                       y=\"norm_odd_x\",\n",
    "                       data=bets_pivot[bets_pivot['odd_bookmakers']=='10Bet']).set_title('10Bet', fontsize = 15)"
   ]
  },
  {
   "cell_type": "code",
   "execution_count": 56,
   "metadata": {},
   "outputs": [
    {
     "data": {
      "image/png": "[encoded data removed]",
      "text/plain": [
       "<Figure size 432x288 with 1 Axes>"
      ]
     },
     "metadata": {
      "needs_background": "light"
     },
     "output_type": "display_data"
    }
   ],
   "source": [
    "ax = sns.scatterplot(x=\"home -win\", \n",
    "                       y=\"norm_odd_x\",\n",
    "                       data=bets_pivot[bets_pivot['odd_bookmakers']=='bwin']).set_title('bwin', fontsize = 15)"
   ]
  },
  {
   "cell_type": "code",
   "execution_count": 57,
   "metadata": {},
   "outputs": [
    {
     "data": {
      "image/png": "[encoded data removed]",
      "text/plain": [
       "<Figure size 432x288 with 1 Axes>"
      ]
     },
     "metadata": {
      "needs_background": "light"
     },
     "output_type": "display_data"
    }
   ],
   "source": [
    "ax = sns.scatterplot(x=\"home -win\", \n",
    "                       y=\"norm_odd_x\",\n",
    "                       data=bets_pivot[bets_pivot['odd_bookmakers']=='Unibet']).set_title('Unibet', fontsize = 15)"
   ]
  },
  {
   "cell_type": "markdown",
   "metadata": {},
   "source": [
    "## Task - 3"
   ]
  },
  {
   "cell_type": "code",
   "execution_count": 386,
   "metadata": {},
   "outputs": [
    {
     "name": "stdout",
     "output_type": "stream",
     "text": [
      "<class 'pandas.core.frame.DataFrame'>\n",
      "Int64Index: 14920 entries, 1 to 16613\n",
      "Data columns (total 5 columns):\n",
      "match_id      14920 non-null int64\n",
      "time          14920 non-null object\n",
      "home_fault    7093 non-null object\n",
      "card          14920 non-null object\n",
      "away_fault    7813 non-null object\n",
      "dtypes: int64(1), object(4)\n",
      "memory usage: 699.4+ KB\n"
     ]
    }
   ],
   "source": [
    "booking.info()"
   ]
  },
  {
   "cell_type": "code",
   "execution_count": 383,
   "metadata": {},
   "outputs": [
    {
     "data": {
      "text/plain": [
       "(14920, 5)"
      ]
     },
     "execution_count": 383,
     "metadata": {},
     "output_type": "execute_result"
    }
   ],
   "source": [
    "booking.shape"
   ]
  },
  {
   "cell_type": "code",
   "execution_count": 384,
   "metadata": {},
   "outputs": [],
   "source": [
    "booking = booking[~(booking['time'].str.contains('\\+'))]"
   ]
  },
  {
   "cell_type": "code",
   "execution_count": 388,
   "metadata": {},
   "outputs": [],
   "source": [
    "booking_for10min = booking[(booking['time'].astype(int)<10) & (booking['card']=='red card')] "
   ]
  },
  {
   "cell_type": "code",
   "execution_count": 429,
   "metadata": {},
   "outputs": [],
   "source": [
    "marathon_bet_pivot['red_card_flag'] = np.where(marathon_bet_pivot['match_id'].isin(list), \n",
    "                             1, 0)"
   ]
  },
  {
   "cell_type": "code",
   "execution_count": 433,
   "metadata": {},
   "outputs": [],
   "source": [
    "marathon_bet_pivot['after_90_flag'] = np.where((marathon_bet_pivot['match_hometeam_score'] -marathon_bet_pivot['match_hometeam_extra_score'])  -(marathon_bet_pivot['match_awayteam_score'] -marathon_bet_pivot['match_awayteam_extra_score'])!=0, 1, 0)"
   ]
  },
  {
   "cell_type": "code",
   "execution_count": 397,
   "metadata": {},
   "outputs": [],
   "source": [
    "list = booking_for10min['match_id'].tolist()"
   ]
  }
 ],
 "metadata": {
  "kernelspec": {
   "display_name": "Python 3",
   "language": "python",
   "name": "python3"
  },
  "language_info": {
   "codemirror_mode": {
    "name": "ipython",
    "version": 3
   },
   "file_extension": ".py",
   "mimetype": "text/x-python",
   "name": "python",
   "nbconvert_exporter": "python",
   "pygments_lexer": "ipython3",
   "version": "3.7.3"
  }
 },
 "nbformat": 4,
 "nbformat_minor": 2
}
