{
 "cells": [
  {
   "cell_type": "code",
   "execution_count": 36,
   "metadata": {},
   "outputs": [],
   "source": [
    "# Imported Packages\n",
    "import pandas as pd\n",
    "import matplotlib.pyplot as plt\n",
    "import seaborn as sns\n",
    "import numpy as np\n"
   ]
  },
  {
   "cell_type": "code",
   "execution_count": 37,
   "metadata": {},
   "outputs": [],
   "source": [
    "#Import csv files to python as a dataframe\n",
    "bets = pd.read_csv(r\"C:\\Users\\elif.erdem\\Desktop\\Master\\IE-582\\HW-1\\bets.csv\") \n",
    "booking = pd.read_csv(r\"C:\\Users\\elif.erdem\\Desktop\\Master\\IE-582\\HW-1\\booking.csv\") \n",
    "goals = pd.read_csv(r\"C:\\Users\\elif.erdem\\Desktop\\Master\\IE-582\\HW-1\\goals.csv\") \n",
    "matches = pd.read_csv(r\"C:\\Users\\elif.erdem\\Desktop\\Master\\IE-582\\HW-1\\matches.csv\") \n",
    "stats = pd.read_csv(r\"C:\\Users\\elif.erdem\\Desktop\\Master\\IE-582\\HW-1\\stats.csv\") "
   ]
  },
  {
   "cell_type": "markdown",
   "metadata": {},
   "source": [
    "* Matches dataframe consists of the info required for Q1. Hence, this df is analyzed with describe and info detailly."
   ]
  },
  {
   "cell_type": "code",
   "execution_count": 38,
   "metadata": {},
   "outputs": [
    {
     "name": "stdout",
     "output_type": "stream",
     "text": [
      "<class 'pandas.core.frame.DataFrame'>\n",
      "RangeIndex: 5137 entries, 0 to 5136\n",
      "Data columns (total 17 columns):\n",
      "match_awayteam_id                5137 non-null int64\n",
      "match_hometeam_id                5137 non-null int64\n",
      "match_id                         5137 non-null int64\n",
      "epoch                            5137 non-null int64\n",
      "match_status                     5073 non-null object\n",
      "match_live                       5137 non-null int64\n",
      "match_hometeam_name              5137 non-null object\n",
      "match_awayteam_name              5137 non-null object\n",
      "match_hometeam_score             5073 non-null float64\n",
      "match_awayteam_score             5073 non-null float64\n",
      "match_hometeam_halftime_score    4711 non-null float64\n",
      "match_awayteam_halftime_score    4711 non-null float64\n",
      "match_hometeam_extra_score       4711 non-null float64\n",
      "match_awayteam_extra_score       4711 non-null float64\n",
      "match_hometeam_penalty_score     0 non-null float64\n",
      "match_awayteam_penalty_score     0 non-null float64\n",
      "league_id                        5137 non-null int64\n",
      "dtypes: float64(8), int64(6), object(3)\n",
      "memory usage: 682.3+ KB\n"
     ]
    }
   ],
   "source": [
    "matches.shape\n",
    "matches.info()"
   ]
  },
  {
   "cell_type": "markdown",
   "metadata": {},
   "source": [
    "* Type of columns which are with match_status, match_hometeam_name, match_awayteam_name is not numerical.\n",
    "* Match_status, match_hometeam_score, match_awayteam_score,match_hometeam_halftime_score, match_awayteam_halftime_score,match_hometeam_extra_score, match_awayteam_extra_score, match_hometeam_penalty_score, match_awayteam_penalty_score columns have missing values.\n",
    "* match_awayteam_penalty_score , match_hometeam_penalty_score  columns can be dropped since they do not include any info.\n"
   ]
  },
  {
   "cell_type": "code",
   "execution_count": 39,
   "metadata": {},
   "outputs": [],
   "source": [
    "matches = matches.drop(columns=['match_hometeam_penalty_score', 'match_awayteam_penalty_score'])"
   ]
  },
  {
   "cell_type": "code",
   "execution_count": 40,
   "metadata": {},
   "outputs": [
    {
     "data": {
      "text/html": [
       "<div>\n",
       "<style scoped>\n",
       "    .dataframe tbody tr th:only-of-type {\n",
       "        vertical-align: middle;\n",
       "    }\n",
       "\n",
       "    .dataframe tbody tr th {\n",
       "        vertical-align: top;\n",
       "    }\n",
       "\n",
       "    .dataframe thead th {\n",
       "        text-align: right;\n",
       "    }\n",
       "</style>\n",
       "<table border=\"1\" class=\"dataframe\">\n",
       "  <thead>\n",
       "    <tr style=\"text-align: right;\">\n",
       "      <th></th>\n",
       "      <th>match_awayteam_id</th>\n",
       "      <th>match_hometeam_id</th>\n",
       "      <th>match_id</th>\n",
       "      <th>epoch</th>\n",
       "      <th>match_live</th>\n",
       "      <th>match_hometeam_score</th>\n",
       "      <th>match_awayteam_score</th>\n",
       "      <th>match_hometeam_halftime_score</th>\n",
       "      <th>match_awayteam_halftime_score</th>\n",
       "      <th>match_hometeam_extra_score</th>\n",
       "      <th>match_awayteam_extra_score</th>\n",
       "      <th>league_id</th>\n",
       "    </tr>\n",
       "  </thead>\n",
       "  <tbody>\n",
       "    <tr>\n",
       "      <th>count</th>\n",
       "      <td>5137.000000</td>\n",
       "      <td>5137.00000</td>\n",
       "      <td>5137.000000</td>\n",
       "      <td>5.137000e+03</td>\n",
       "      <td>5137.0</td>\n",
       "      <td>5073.000000</td>\n",
       "      <td>5073.000000</td>\n",
       "      <td>4711.000000</td>\n",
       "      <td>4711.000000</td>\n",
       "      <td>4711.000000</td>\n",
       "      <td>4711.000000</td>\n",
       "      <td>5137.000000</td>\n",
       "    </tr>\n",
       "    <tr>\n",
       "      <th>mean</th>\n",
       "      <td>4531.758809</td>\n",
       "      <td>4531.84232</td>\n",
       "      <td>142888.798521</td>\n",
       "      <td>1.539031e+09</td>\n",
       "      <td>0.0</td>\n",
       "      <td>1.571260</td>\n",
       "      <td>1.217426</td>\n",
       "      <td>0.673955</td>\n",
       "      <td>0.523456</td>\n",
       "      <td>0.673955</td>\n",
       "      <td>0.523456</td>\n",
       "      <td>287.737201</td>\n",
       "    </tr>\n",
       "    <tr>\n",
       "      <th>std</th>\n",
       "      <td>1942.916147</td>\n",
       "      <td>1942.99576</td>\n",
       "      <td>69741.254602</td>\n",
       "      <td>1.992203e+07</td>\n",
       "      <td>0.0</td>\n",
       "      <td>1.275102</td>\n",
       "      <td>1.172535</td>\n",
       "      <td>0.816132</td>\n",
       "      <td>0.731627</td>\n",
       "      <td>0.816132</td>\n",
       "      <td>0.731627</td>\n",
       "      <td>140.939789</td>\n",
       "    </tr>\n",
       "    <tr>\n",
       "      <th>min</th>\n",
       "      <td>2611.000000</td>\n",
       "      <td>2611.00000</td>\n",
       "      <td>13274.000000</td>\n",
       "      <td>1.505560e+09</td>\n",
       "      <td>0.0</td>\n",
       "      <td>0.000000</td>\n",
       "      <td>0.000000</td>\n",
       "      <td>0.000000</td>\n",
       "      <td>0.000000</td>\n",
       "      <td>0.000000</td>\n",
       "      <td>0.000000</td>\n",
       "      <td>148.000000</td>\n",
       "    </tr>\n",
       "    <tr>\n",
       "      <th>25%</th>\n",
       "      <td>2679.000000</td>\n",
       "      <td>2679.00000</td>\n",
       "      <td>79111.000000</td>\n",
       "      <td>1.520015e+09</td>\n",
       "      <td>0.0</td>\n",
       "      <td>1.000000</td>\n",
       "      <td>0.000000</td>\n",
       "      <td>0.000000</td>\n",
       "      <td>0.000000</td>\n",
       "      <td>0.000000</td>\n",
       "      <td>0.000000</td>\n",
       "      <td>149.000000</td>\n",
       "    </tr>\n",
       "    <tr>\n",
       "      <th>50%</th>\n",
       "      <td>4171.000000</td>\n",
       "      <td>4171.00000</td>\n",
       "      <td>146838.000000</td>\n",
       "      <td>1.541254e+09</td>\n",
       "      <td>0.0</td>\n",
       "      <td>1.000000</td>\n",
       "      <td>1.000000</td>\n",
       "      <td>0.000000</td>\n",
       "      <td>0.000000</td>\n",
       "      <td>0.000000</td>\n",
       "      <td>0.000000</td>\n",
       "      <td>262.000000</td>\n",
       "    </tr>\n",
       "    <tr>\n",
       "      <th>75%</th>\n",
       "      <td>7097.000000</td>\n",
       "      <td>7097.00000</td>\n",
       "      <td>196510.000000</td>\n",
       "      <td>1.554642e+09</td>\n",
       "      <td>0.0</td>\n",
       "      <td>2.000000</td>\n",
       "      <td>2.000000</td>\n",
       "      <td>1.000000</td>\n",
       "      <td>1.000000</td>\n",
       "      <td>1.000000</td>\n",
       "      <td>1.000000</td>\n",
       "      <td>468.000000</td>\n",
       "    </tr>\n",
       "    <tr>\n",
       "      <th>max</th>\n",
       "      <td>7670.000000</td>\n",
       "      <td>7670.00000</td>\n",
       "      <td>318015.000000</td>\n",
       "      <td>1.571512e+09</td>\n",
       "      <td>0.0</td>\n",
       "      <td>8.000000</td>\n",
       "      <td>7.000000</td>\n",
       "      <td>6.000000</td>\n",
       "      <td>5.000000</td>\n",
       "      <td>6.000000</td>\n",
       "      <td>5.000000</td>\n",
       "      <td>512.000000</td>\n",
       "    </tr>\n",
       "  </tbody>\n",
       "</table>\n",
       "</div>"
      ],
      "text/plain": [
       "       match_awayteam_id  match_hometeam_id       match_id         epoch  \\\n",
       "count        5137.000000         5137.00000    5137.000000  5.137000e+03   \n",
       "mean         4531.758809         4531.84232  142888.798521  1.539031e+09   \n",
       "std          1942.916147         1942.99576   69741.254602  1.992203e+07   \n",
       "min          2611.000000         2611.00000   13274.000000  1.505560e+09   \n",
       "25%          2679.000000         2679.00000   79111.000000  1.520015e+09   \n",
       "50%          4171.000000         4171.00000  146838.000000  1.541254e+09   \n",
       "75%          7097.000000         7097.00000  196510.000000  1.554642e+09   \n",
       "max          7670.000000         7670.00000  318015.000000  1.571512e+09   \n",
       "\n",
       "       match_live  match_hometeam_score  match_awayteam_score  \\\n",
       "count      5137.0           5073.000000           5073.000000   \n",
       "mean          0.0              1.571260              1.217426   \n",
       "std           0.0              1.275102              1.172535   \n",
       "min           0.0              0.000000              0.000000   \n",
       "25%           0.0              1.000000              0.000000   \n",
       "50%           0.0              1.000000              1.000000   \n",
       "75%           0.0              2.000000              2.000000   \n",
       "max           0.0              8.000000              7.000000   \n",
       "\n",
       "       match_hometeam_halftime_score  match_awayteam_halftime_score  \\\n",
       "count                    4711.000000                    4711.000000   \n",
       "mean                        0.673955                       0.523456   \n",
       "std                         0.816132                       0.731627   \n",
       "min                         0.000000                       0.000000   \n",
       "25%                         0.000000                       0.000000   \n",
       "50%                         0.000000                       0.000000   \n",
       "75%                         1.000000                       1.000000   \n",
       "max                         6.000000                       5.000000   \n",
       "\n",
       "       match_hometeam_extra_score  match_awayteam_extra_score    league_id  \n",
       "count                 4711.000000                 4711.000000  5137.000000  \n",
       "mean                     0.673955                    0.523456   287.737201  \n",
       "std                      0.816132                    0.731627   140.939789  \n",
       "min                      0.000000                    0.000000   148.000000  \n",
       "25%                      0.000000                    0.000000   149.000000  \n",
       "50%                      0.000000                    0.000000   262.000000  \n",
       "75%                      1.000000                    1.000000   468.000000  \n",
       "max                      6.000000                    5.000000   512.000000  "
      ]
     },
     "execution_count": 40,
     "metadata": {},
     "output_type": "execute_result"
    }
   ],
   "source": [
    "matches.describe()"
   ]
  },
  {
   "cell_type": "markdown",
   "metadata": {},
   "source": [
    "* Columns that are match_hometeam_score, match_awayteam_score, match_hometeam_halftime_score, match_awayteam_halftime_score, match_hometeam_extra_score, match_awayteam_extra_score analyzed min, max and mean values to analyze outliers"
   ]
  },
  {
   "cell_type": "markdown",
   "metadata": {},
   "source": [
    "- English premier league is analyzed for the Q1. Hence, the raw data is limited for the LeagueId=148(EnglishPremier)"
   ]
  },
  {
   "cell_type": "code",
   "execution_count": 41,
   "metadata": {},
   "outputs": [],
   "source": [
    "matches_premier= matches[matches['league_id']==148]"
   ]
  },
  {
   "cell_type": "code",
   "execution_count": 42,
   "metadata": {},
   "outputs": [
    {
     "data": {
      "text/html": [
       "<div>\n",
       "<style scoped>\n",
       "    .dataframe tbody tr th:only-of-type {\n",
       "        vertical-align: middle;\n",
       "    }\n",
       "\n",
       "    .dataframe tbody tr th {\n",
       "        vertical-align: top;\n",
       "    }\n",
       "\n",
       "    .dataframe thead th {\n",
       "        text-align: right;\n",
       "    }\n",
       "</style>\n",
       "<table border=\"1\" class=\"dataframe\">\n",
       "  <thead>\n",
       "    <tr style=\"text-align: right;\">\n",
       "      <th></th>\n",
       "      <th>match_awayteam_id</th>\n",
       "      <th>match_hometeam_id</th>\n",
       "      <th>match_id</th>\n",
       "      <th>epoch</th>\n",
       "      <th>match_status</th>\n",
       "      <th>match_live</th>\n",
       "      <th>match_hometeam_name</th>\n",
       "      <th>match_awayteam_name</th>\n",
       "      <th>match_hometeam_score</th>\n",
       "      <th>match_awayteam_score</th>\n",
       "      <th>match_hometeam_halftime_score</th>\n",
       "      <th>match_awayteam_halftime_score</th>\n",
       "      <th>match_hometeam_extra_score</th>\n",
       "      <th>match_awayteam_extra_score</th>\n",
       "      <th>league_id</th>\n",
       "    </tr>\n",
       "  </thead>\n",
       "  <tbody>\n",
       "    <tr>\n",
       "      <th>1</th>\n",
       "      <td>2614</td>\n",
       "      <td>2619</td>\n",
       "      <td>13331</td>\n",
       "      <td>1505561400</td>\n",
       "      <td>Finished</td>\n",
       "      <td>0</td>\n",
       "      <td>Crystal Palace</td>\n",
       "      <td>Southampton</td>\n",
       "      <td>0.0</td>\n",
       "      <td>1.0</td>\n",
       "      <td>0.0</td>\n",
       "      <td>1.0</td>\n",
       "      <td>0.0</td>\n",
       "      <td>1.0</td>\n",
       "      <td>148</td>\n",
       "    </tr>\n",
       "    <tr>\n",
       "      <th>5</th>\n",
       "      <td>2626</td>\n",
       "      <td>2623</td>\n",
       "      <td>13329</td>\n",
       "      <td>1505570400</td>\n",
       "      <td>Finished</td>\n",
       "      <td>0</td>\n",
       "      <td>Watford</td>\n",
       "      <td>Manchester City</td>\n",
       "      <td>0.0</td>\n",
       "      <td>6.0</td>\n",
       "      <td>0.0</td>\n",
       "      <td>3.0</td>\n",
       "      <td>0.0</td>\n",
       "      <td>3.0</td>\n",
       "      <td>148</td>\n",
       "    </tr>\n",
       "  </tbody>\n",
       "</table>\n",
       "</div>"
      ],
      "text/plain": [
       "   match_awayteam_id  match_hometeam_id  match_id       epoch match_status  \\\n",
       "1               2614               2619     13331  1505561400     Finished   \n",
       "5               2626               2623     13329  1505570400     Finished   \n",
       "\n",
       "   match_live match_hometeam_name match_awayteam_name  match_hometeam_score  \\\n",
       "1           0      Crystal Palace         Southampton                   0.0   \n",
       "5           0             Watford     Manchester City                   0.0   \n",
       "\n",
       "   match_awayteam_score  match_hometeam_halftime_score  \\\n",
       "1                   1.0                            0.0   \n",
       "5                   6.0                            0.0   \n",
       "\n",
       "   match_awayteam_halftime_score  match_hometeam_extra_score  \\\n",
       "1                            1.0                         0.0   \n",
       "5                            3.0                         0.0   \n",
       "\n",
       "   match_awayteam_extra_score  league_id  \n",
       "1                         1.0        148  \n",
       "5                         3.0        148  "
      ]
     },
     "execution_count": 42,
     "metadata": {},
     "output_type": "execute_result"
    }
   ],
   "source": [
    "matches_premier.head(2)"
   ]
  },
  {
   "cell_type": "code",
   "execution_count": 43,
   "metadata": {},
   "outputs": [
    {
     "name": "stdout",
     "output_type": "stream",
     "text": [
      "<class 'pandas.core.frame.DataFrame'>\n",
      "Int64Index: 628 entries, 1 to 5118\n",
      "Data columns (total 15 columns):\n",
      "match_awayteam_id                628 non-null int64\n",
      "match_hometeam_id                628 non-null int64\n",
      "match_id                         628 non-null int64\n",
      "epoch                            628 non-null int64\n",
      "match_status                     618 non-null object\n",
      "match_live                       628 non-null int64\n",
      "match_hometeam_name              628 non-null object\n",
      "match_awayteam_name              628 non-null object\n",
      "match_hometeam_score             618 non-null float64\n",
      "match_awayteam_score             618 non-null float64\n",
      "match_hometeam_halftime_score    569 non-null float64\n",
      "match_awayteam_halftime_score    569 non-null float64\n",
      "match_hometeam_extra_score       569 non-null float64\n",
      "match_awayteam_extra_score       569 non-null float64\n",
      "league_id                        628 non-null int64\n",
      "dtypes: float64(6), int64(6), object(3)\n",
      "memory usage: 78.5+ KB\n"
     ]
    }
   ],
   "source": [
    "matches_premier.info()"
   ]
  },
  {
   "cell_type": "code",
   "execution_count": 44,
   "metadata": {},
   "outputs": [],
   "source": [
    "matches_premier = matches_premier[matches_premier['match_status']=='Finished']"
   ]
  },
  {
   "cell_type": "markdown",
   "metadata": {},
   "source": [
    "* Match_satus=Finished is selected"
   ]
  },
  {
   "cell_type": "code",
   "execution_count": 45,
   "metadata": {},
   "outputs": [
    {
     "data": {
      "text/plain": [
       "array([False])"
      ]
     },
     "execution_count": 45,
     "metadata": {},
     "output_type": "execute_result"
    }
   ],
   "source": [
    "matches_premier = matches_premier.drop_duplicates()\n",
    "matches_premier['match_id'].duplicated().unique()"
   ]
  },
  {
   "cell_type": "markdown",
   "metadata": {},
   "source": [
    "* Duplicate values and NAN values ara dropped."
   ]
  },
  {
   "cell_type": "code",
   "execution_count": 46,
   "metadata": {},
   "outputs": [
    {
     "data": {
      "text/plain": [
       "(618, 15)"
      ]
     },
     "execution_count": 46,
     "metadata": {},
     "output_type": "execute_result"
    }
   ],
   "source": [
    "matches_premier.shape"
   ]
  },
  {
   "cell_type": "code",
   "execution_count": 47,
   "metadata": {},
   "outputs": [],
   "source": [
    "matches_premier = matches_premier[matches_premier['match_hometeam_score'].notnull()]"
   ]
  },
  {
   "cell_type": "code",
   "execution_count": 48,
   "metadata": {},
   "outputs": [],
   "source": [
    "matches_premier = matches_premier[matches_premier['match_awayteam_score'].notnull()]"
   ]
  },
  {
   "cell_type": "markdown",
   "metadata": {},
   "source": [
    "* Each match must contain scores"
   ]
  },
  {
   "cell_type": "code",
   "execution_count": 50,
   "metadata": {},
   "outputs": [],
   "source": [
    "matches_premier_control = matches_premier.groupby(['match_id']).count()"
   ]
  },
  {
   "cell_type": "code",
   "execution_count": 51,
   "metadata": {},
   "outputs": [
    {
     "data": {
      "text/plain": [
       "(618, 14)"
      ]
     },
     "execution_count": 51,
     "metadata": {},
     "output_type": "execute_result"
    }
   ],
   "source": [
    "matches_premier_control.shape"
   ]
  },
  {
   "cell_type": "markdown",
   "metadata": {},
   "source": [
    "* Data is singuler based of match_id."
   ]
  },
  {
   "cell_type": "code",
   "execution_count": 52,
   "metadata": {},
   "outputs": [],
   "source": [
    "matches_premier = matches_premier[['match_id', 'match_hometeam_score', 'match_awayteam_score', 'match_hometeam_extra_score', 'match_awayteam_extra_score']]"
   ]
  },
  {
   "cell_type": "code",
   "execution_count": 54,
   "metadata": {},
   "outputs": [],
   "source": [
    "matches_premier['difference'] =  matches_premier['match_hometeam_score'] -  matches_premier['match_awayteam_score']"
   ]
  },
  {
   "cell_type": "markdown",
   "metadata": {},
   "source": [
    "* Only neccessary columns are selected"
   ]
  },
  {
   "cell_type": "code",
   "execution_count": 20,
   "metadata": {},
   "outputs": [
    {
     "data": {
      "text/html": [
       "<div>\n",
       "<style scoped>\n",
       "    .dataframe tbody tr th:only-of-type {\n",
       "        vertical-align: middle;\n",
       "    }\n",
       "\n",
       "    .dataframe tbody tr th {\n",
       "        vertical-align: top;\n",
       "    }\n",
       "\n",
       "    .dataframe thead th {\n",
       "        text-align: right;\n",
       "    }\n",
       "</style>\n",
       "<table border=\"1\" class=\"dataframe\">\n",
       "  <thead>\n",
       "    <tr style=\"text-align: right;\">\n",
       "      <th></th>\n",
       "      <th>match_id</th>\n",
       "      <th>match_hometeam_score</th>\n",
       "      <th>match_awayteam_score</th>\n",
       "      <th>match_hometeam_extra_score</th>\n",
       "      <th>match_awayteam_extra_score</th>\n",
       "      <th>difference</th>\n",
       "    </tr>\n",
       "  </thead>\n",
       "  <tbody>\n",
       "    <tr>\n",
       "      <th>count</th>\n",
       "      <td>618.000000</td>\n",
       "      <td>618.000000</td>\n",
       "      <td>618.000000</td>\n",
       "      <td>569.000000</td>\n",
       "      <td>569.000000</td>\n",
       "      <td>618.000000</td>\n",
       "    </tr>\n",
       "    <tr>\n",
       "      <th>mean</th>\n",
       "      <td>134960.289644</td>\n",
       "      <td>1.601942</td>\n",
       "      <td>1.228155</td>\n",
       "      <td>0.687170</td>\n",
       "      <td>0.555360</td>\n",
       "      <td>0.373786</td>\n",
       "    </tr>\n",
       "    <tr>\n",
       "      <th>std</th>\n",
       "      <td>63490.631354</td>\n",
       "      <td>1.314474</td>\n",
       "      <td>1.181180</td>\n",
       "      <td>0.884447</td>\n",
       "      <td>0.765113</td>\n",
       "      <td>1.889429</td>\n",
       "    </tr>\n",
       "    <tr>\n",
       "      <th>min</th>\n",
       "      <td>13274.000000</td>\n",
       "      <td>0.000000</td>\n",
       "      <td>0.000000</td>\n",
       "      <td>0.000000</td>\n",
       "      <td>0.000000</td>\n",
       "      <td>-6.000000</td>\n",
       "    </tr>\n",
       "    <tr>\n",
       "      <th>25%</th>\n",
       "      <td>75030.750000</td>\n",
       "      <td>1.000000</td>\n",
       "      <td>0.000000</td>\n",
       "      <td>0.000000</td>\n",
       "      <td>0.000000</td>\n",
       "      <td>-1.000000</td>\n",
       "    </tr>\n",
       "    <tr>\n",
       "      <th>50%</th>\n",
       "      <td>145185.000000</td>\n",
       "      <td>1.000000</td>\n",
       "      <td>1.000000</td>\n",
       "      <td>0.000000</td>\n",
       "      <td>0.000000</td>\n",
       "      <td>0.000000</td>\n",
       "    </tr>\n",
       "    <tr>\n",
       "      <th>75%</th>\n",
       "      <td>183814.750000</td>\n",
       "      <td>2.000000</td>\n",
       "      <td>2.000000</td>\n",
       "      <td>1.000000</td>\n",
       "      <td>1.000000</td>\n",
       "      <td>2.000000</td>\n",
       "    </tr>\n",
       "    <tr>\n",
       "      <th>max</th>\n",
       "      <td>307209.000000</td>\n",
       "      <td>8.000000</td>\n",
       "      <td>6.000000</td>\n",
       "      <td>5.000000</td>\n",
       "      <td>3.000000</td>\n",
       "      <td>8.000000</td>\n",
       "    </tr>\n",
       "  </tbody>\n",
       "</table>\n",
       "</div>"
      ],
      "text/plain": [
       "            match_id  match_hometeam_score  match_awayteam_score  \\\n",
       "count     618.000000            618.000000            618.000000   \n",
       "mean   134960.289644              1.601942              1.228155   \n",
       "std     63490.631354              1.314474              1.181180   \n",
       "min     13274.000000              0.000000              0.000000   \n",
       "25%     75030.750000              1.000000              0.000000   \n",
       "50%    145185.000000              1.000000              1.000000   \n",
       "75%    183814.750000              2.000000              2.000000   \n",
       "max    307209.000000              8.000000              6.000000   \n",
       "\n",
       "       match_hometeam_extra_score  match_awayteam_extra_score  difference  \n",
       "count                  569.000000                  569.000000  618.000000  \n",
       "mean                     0.687170                    0.555360    0.373786  \n",
       "std                      0.884447                    0.765113    1.889429  \n",
       "min                      0.000000                    0.000000   -6.000000  \n",
       "25%                      0.000000                    0.000000   -1.000000  \n",
       "50%                      0.000000                    0.000000    0.000000  \n",
       "75%                      1.000000                    1.000000    2.000000  \n",
       "max                      5.000000                    3.000000    8.000000  "
      ]
     },
     "execution_count": 20,
     "metadata": {},
     "output_type": "execute_result"
    }
   ],
   "source": [
    "matches_premier.describe()"
   ]
  },
  {
   "cell_type": "markdown",
   "metadata": {},
   "source": [
    "# Task 1 "
   ]
  },
  {
   "cell_type": "code",
   "execution_count": 68,
   "metadata": {},
   "outputs": [],
   "source": [
    "mean = matches_premier['match_hometeam_score'].mean()"
   ]
  },
  {
   "cell_type": "code",
   "execution_count": 73,
   "metadata": {},
   "outputs": [],
   "source": [
    "size= int(matches_premier['match_hometeam_score'].size)"
   ]
  },
  {
   "cell_type": "code",
   "execution_count": 74,
   "metadata": {},
   "outputs": [],
   "source": [
    "bins_home =int( matches_premier['match_hometeam_score'].max())"
   ]
  },
  {
   "cell_type": "code",
   "execution_count": 76,
   "metadata": {},
   "outputs": [],
   "source": [
    "range_min_home= int(matches_premier['match_hometeam_score'].min())"
   ]
  },
  {
   "cell_type": "code",
   "execution_count": 77,
   "metadata": {},
   "outputs": [
    {
     "data": {
      "text/plain": [
       "Text(0, 0.5, 'Number of Games')"
      ]
     },
     "execution_count": 77,
     "metadata": {},
     "output_type": "execute_result"
    },
    {
     "data": {
      "image/png": "[encoded data removed]",
      "text/plain": [
       "<Figure size 432x288 with 1 Axes>"
      ]
     },
     "metadata": {
      "needs_background": "light"
     },
     "output_type": "display_data"
    }
   ],
   "source": [
    "sns.distplot(matches_premier.match_hometeam_score, kde=False, bins = bins_home) ## bins= max(match_hometeam_score)\n",
    "poissonpmf = np.histogram(np.random.poisson(lam =mean, size = size),\n",
    "                            bins=bins_home, range=(range_min_home, bins_home))\n",
    "plt.plot(poissonpmf[0])\n",
    "plt.xlabel('Home Goals')\n",
    "plt.ylabel('Number of Games')\n"
   ]
  },
  {
   "cell_type": "code",
   "execution_count": 78,
   "metadata": {},
   "outputs": [],
   "source": [
    "bins_away =int( matches_premier['match_awayteam_score'].max())"
   ]
  },
  {
   "cell_type": "code",
   "execution_count": 79,
   "metadata": {},
   "outputs": [],
   "source": [
    "size_away= int(matches_premier['match_awayteam_score'].size)"
   ]
  },
  {
   "cell_type": "code",
   "execution_count": 80,
   "metadata": {},
   "outputs": [],
   "source": [
    "mean_away = matches_premier['match_awayteam_score'].mean()"
   ]
  },
  {
   "cell_type": "code",
   "execution_count": 81,
   "metadata": {},
   "outputs": [],
   "source": [
    "range_min_away= int(matches_premier['match_awayteam_score'].min())"
   ]
  },
  {
   "cell_type": "code",
   "execution_count": 82,
   "metadata": {},
   "outputs": [
    {
     "data": {
      "text/plain": [
       "Text(0, 0.5, 'Number of Games')"
      ]
     },
     "execution_count": 82,
     "metadata": {},
     "output_type": "execute_result"
    },
    {
     "data": {
      "image/png": "[encoded data removed]",
      "text/plain": [
       "<Figure size 432x288 with 1 Axes>"
      ]
     },
     "metadata": {
      "needs_background": "light"
     },
     "output_type": "display_data"
    }
   ],
   "source": [
    "sns.distplot(matches_premier.match_awayteam_score, kde=False, bins = bins_away)#bins=max(match_awayteam_score)\n",
    "poissonpmf = np.histogram(np.random.poisson(lam =mean_away, size = size_away),\n",
    "                            bins=bins_away, range=(range_min_away, bins_away))\n",
    "plt.plot(poissonpmf[0])\n",
    "plt.xlabel('Away Goals')\n",
    "plt.ylabel('Number of Games')\n"
   ]
  },
  {
   "cell_type": "markdown",
   "metadata": {},
   "source": [
    "* The first two plots are consistent with Poisson distribution"
   ]
  },
  {
   "cell_type": "code",
   "execution_count": 237,
   "metadata": {
    "scrolled": true
   },
   "outputs": [
    {
     "data": {
      "text/plain": [
       "Text(0, 0.5, 'Number of Games')"
      ]
     },
     "execution_count": 237,
     "metadata": {},
     "output_type": "execute_result"
    },
    {
     "data": {
      "image/png": "[encoded data removed]",
      "text/plain": [
       "<Figure size 432x288 with 1 Axes>"
      ]
     },
     "metadata": {
      "needs_background": "light"
     },
     "output_type": "display_data"
    }
   ],
   "source": [
    "sns.distplot(matches_premier.difference,  bins = 14) ##bins= max(difference) -min(difference)\n",
    "plt.xlabel('Home-Away')\n",
    "plt.ylabel('Number of Games')"
   ]
  },
  {
   "cell_type": "code",
   "execution_count": 84,
   "metadata": {
    "scrolled": false
   },
   "outputs": [
    {
     "data": {
      "text/html": [
       "<div>\n",
       "<style scoped>\n",
       "    .dataframe tbody tr th:only-of-type {\n",
       "        vertical-align: middle;\n",
       "    }\n",
       "\n",
       "    .dataframe tbody tr th {\n",
       "        vertical-align: top;\n",
       "    }\n",
       "\n",
       "    .dataframe thead th {\n",
       "        text-align: right;\n",
       "    }\n",
       "</style>\n",
       "<table border=\"1\" class=\"dataframe\">\n",
       "  <thead>\n",
       "    <tr style=\"text-align: right;\">\n",
       "      <th></th>\n",
       "      <th>match_id</th>\n",
       "      <th>match_hometeam_score</th>\n",
       "      <th>match_awayteam_score</th>\n",
       "      <th>match_hometeam_extra_score</th>\n",
       "      <th>match_awayteam_extra_score</th>\n",
       "      <th>difference</th>\n",
       "    </tr>\n",
       "  </thead>\n",
       "  <tbody>\n",
       "    <tr>\n",
       "      <th>count</th>\n",
       "      <td>618.000000</td>\n",
       "      <td>618.000000</td>\n",
       "      <td>618.000000</td>\n",
       "      <td>569.000000</td>\n",
       "      <td>569.000000</td>\n",
       "      <td>618.000000</td>\n",
       "    </tr>\n",
       "    <tr>\n",
       "      <th>mean</th>\n",
       "      <td>134960.289644</td>\n",
       "      <td>1.601942</td>\n",
       "      <td>1.228155</td>\n",
       "      <td>0.687170</td>\n",
       "      <td>0.555360</td>\n",
       "      <td>0.373786</td>\n",
       "    </tr>\n",
       "    <tr>\n",
       "      <th>std</th>\n",
       "      <td>63490.631354</td>\n",
       "      <td>1.314474</td>\n",
       "      <td>1.181180</td>\n",
       "      <td>0.884447</td>\n",
       "      <td>0.765113</td>\n",
       "      <td>1.889429</td>\n",
       "    </tr>\n",
       "    <tr>\n",
       "      <th>min</th>\n",
       "      <td>13274.000000</td>\n",
       "      <td>0.000000</td>\n",
       "      <td>0.000000</td>\n",
       "      <td>0.000000</td>\n",
       "      <td>0.000000</td>\n",
       "      <td>-6.000000</td>\n",
       "    </tr>\n",
       "    <tr>\n",
       "      <th>25%</th>\n",
       "      <td>75030.750000</td>\n",
       "      <td>1.000000</td>\n",
       "      <td>0.000000</td>\n",
       "      <td>0.000000</td>\n",
       "      <td>0.000000</td>\n",
       "      <td>-1.000000</td>\n",
       "    </tr>\n",
       "    <tr>\n",
       "      <th>50%</th>\n",
       "      <td>145185.000000</td>\n",
       "      <td>1.000000</td>\n",
       "      <td>1.000000</td>\n",
       "      <td>0.000000</td>\n",
       "      <td>0.000000</td>\n",
       "      <td>0.000000</td>\n",
       "    </tr>\n",
       "    <tr>\n",
       "      <th>75%</th>\n",
       "      <td>183814.750000</td>\n",
       "      <td>2.000000</td>\n",
       "      <td>2.000000</td>\n",
       "      <td>1.000000</td>\n",
       "      <td>1.000000</td>\n",
       "      <td>2.000000</td>\n",
       "    </tr>\n",
       "    <tr>\n",
       "      <th>max</th>\n",
       "      <td>307209.000000</td>\n",
       "      <td>8.000000</td>\n",
       "      <td>6.000000</td>\n",
       "      <td>5.000000</td>\n",
       "      <td>3.000000</td>\n",
       "      <td>8.000000</td>\n",
       "    </tr>\n",
       "  </tbody>\n",
       "</table>\n",
       "</div>"
      ],
      "text/plain": [
       "            match_id  match_hometeam_score  match_awayteam_score  \\\n",
       "count     618.000000            618.000000            618.000000   \n",
       "mean   134960.289644              1.601942              1.228155   \n",
       "std     63490.631354              1.314474              1.181180   \n",
       "min     13274.000000              0.000000              0.000000   \n",
       "25%     75030.750000              1.000000              0.000000   \n",
       "50%    145185.000000              1.000000              1.000000   \n",
       "75%    183814.750000              2.000000              2.000000   \n",
       "max    307209.000000              8.000000              6.000000   \n",
       "\n",
       "       match_hometeam_extra_score  match_awayteam_extra_score  difference  \n",
       "count                  569.000000                  569.000000  618.000000  \n",
       "mean                     0.687170                    0.555360    0.373786  \n",
       "std                      0.884447                    0.765113    1.889429  \n",
       "min                      0.000000                    0.000000   -6.000000  \n",
       "25%                      0.000000                    0.000000   -1.000000  \n",
       "50%                      0.000000                    0.000000    0.000000  \n",
       "75%                      1.000000                    1.000000    2.000000  \n",
       "max                      5.000000                    3.000000    8.000000  "
      ]
     },
     "execution_count": 84,
     "metadata": {},
     "output_type": "execute_result"
    }
   ],
   "source": [
    "matches_premier.describe()"
   ]
  },
  {
   "cell_type": "markdown",
   "metadata": {},
   "source": [
    "# Task - 2"
   ]
  },
  {
   "cell_type": "code",
   "execution_count": 88,
   "metadata": {
    "scrolled": true
   },
   "outputs": [
    {
     "data": {
      "text/html": [
       "<div>\n",
       "<style scoped>\n",
       "    .dataframe tbody tr th:only-of-type {\n",
       "        vertical-align: middle;\n",
       "    }\n",
       "\n",
       "    .dataframe tbody tr th {\n",
       "        vertical-align: top;\n",
       "    }\n",
       "\n",
       "    .dataframe thead th {\n",
       "        text-align: right;\n",
       "    }\n",
       "</style>\n",
       "<table border=\"1\" class=\"dataframe\">\n",
       "  <thead>\n",
       "    <tr style=\"text-align: right;\">\n",
       "      <th></th>\n",
       "      <th>match_id</th>\n",
       "      <th>odd_bookmakers</th>\n",
       "      <th>odd_epoch</th>\n",
       "      <th>variable</th>\n",
       "      <th>value</th>\n",
       "    </tr>\n",
       "  </thead>\n",
       "  <tbody>\n",
       "    <tr>\n",
       "      <th>0</th>\n",
       "      <td>146845</td>\n",
       "      <td>BetOlimp</td>\n",
       "      <td>1486301854</td>\n",
       "      <td>odd_1</td>\n",
       "      <td>1.96</td>\n",
       "    </tr>\n",
       "    <tr>\n",
       "      <th>1</th>\n",
       "      <td>151780</td>\n",
       "      <td>10Bet</td>\n",
       "      <td>1486314920</td>\n",
       "      <td>odd_1</td>\n",
       "      <td>2.15</td>\n",
       "    </tr>\n",
       "    <tr>\n",
       "      <th>2</th>\n",
       "      <td>151780</td>\n",
       "      <td>18bet</td>\n",
       "      <td>1486314920</td>\n",
       "      <td>odd_1</td>\n",
       "      <td>2.17</td>\n",
       "    </tr>\n",
       "    <tr>\n",
       "      <th>3</th>\n",
       "      <td>151780</td>\n",
       "      <td>1xBet</td>\n",
       "      <td>1486314920</td>\n",
       "      <td>odd_1</td>\n",
       "      <td>2.20</td>\n",
       "    </tr>\n",
       "    <tr>\n",
       "      <th>4</th>\n",
       "      <td>151780</td>\n",
       "      <td>5Dimes</td>\n",
       "      <td>1486314920</td>\n",
       "      <td>odd_1</td>\n",
       "      <td>2.23</td>\n",
       "    </tr>\n",
       "  </tbody>\n",
       "</table>\n",
       "</div>"
      ],
      "text/plain": [
       "   match_id odd_bookmakers   odd_epoch variable  value\n",
       "0    146845       BetOlimp  1486301854    odd_1   1.96\n",
       "1    151780          10Bet  1486314920    odd_1   2.15\n",
       "2    151780          18bet  1486314920    odd_1   2.17\n",
       "3    151780          1xBet  1486314920    odd_1   2.20\n",
       "4    151780         5Dimes  1486314920    odd_1   2.23"
      ]
     },
     "execution_count": 88,
     "metadata": {},
     "output_type": "execute_result"
    }
   ],
   "source": [
    "bets.head(5)"
   ]
  },
  {
   "cell_type": "code",
   "execution_count": 89,
   "metadata": {},
   "outputs": [],
   "source": [
    "bets = bets[bets[\"odd_bookmakers\"].isin(['10Bet', 'bwin', 'Unibet', 'Marathonbet'])]"
   ]
  },
  {
   "cell_type": "code",
   "execution_count": 90,
   "metadata": {},
   "outputs": [],
   "source": [
    "bets = bets[bets['variable'].isin(['odd_1', 'odd_x', 'odd_2'])]"
   ]
  },
  {
   "cell_type": "code",
   "execution_count": 91,
   "metadata": {},
   "outputs": [
    {
     "name": "stdout",
     "output_type": "stream",
     "text": [
      "<class 'pandas.core.frame.DataFrame'>\n",
      "Int64Index: 31713 entries, 1 to 2118461\n",
      "Data columns (total 5 columns):\n",
      "match_id          31713 non-null int64\n",
      "odd_bookmakers    31713 non-null object\n",
      "odd_epoch         31713 non-null int64\n",
      "variable          31713 non-null object\n",
      "value             31713 non-null float64\n",
      "dtypes: float64(1), int64(2), object(2)\n",
      "memory usage: 1.5+ MB\n"
     ]
    }
   ],
   "source": [
    "bets.info()"
   ]
  },
  {
   "cell_type": "markdown",
   "metadata": {},
   "source": [
    "* There is no NaN value"
   ]
  },
  {
   "cell_type": "code",
   "execution_count": 92,
   "metadata": {},
   "outputs": [
    {
     "data": {
      "text/html": [
       "<div>\n",
       "<style scoped>\n",
       "    .dataframe tbody tr th:only-of-type {\n",
       "        vertical-align: middle;\n",
       "    }\n",
       "\n",
       "    .dataframe tbody tr th {\n",
       "        vertical-align: top;\n",
       "    }\n",
       "\n",
       "    .dataframe thead th {\n",
       "        text-align: right;\n",
       "    }\n",
       "</style>\n",
       "<table border=\"1\" class=\"dataframe\">\n",
       "  <thead>\n",
       "    <tr style=\"text-align: right;\">\n",
       "      <th></th>\n",
       "      <th>match_id</th>\n",
       "      <th>odd_epoch</th>\n",
       "      <th>value</th>\n",
       "    </tr>\n",
       "  </thead>\n",
       "  <tbody>\n",
       "    <tr>\n",
       "      <th>count</th>\n",
       "      <td>31713.000000</td>\n",
       "      <td>3.171300e+04</td>\n",
       "      <td>31713.000000</td>\n",
       "    </tr>\n",
       "    <tr>\n",
       "      <th>mean</th>\n",
       "      <td>203653.726611</td>\n",
       "      <td>1.541379e+09</td>\n",
       "      <td>3.600759</td>\n",
       "    </tr>\n",
       "    <tr>\n",
       "      <th>std</th>\n",
       "      <td>34813.350460</td>\n",
       "      <td>2.692774e+07</td>\n",
       "      <td>2.424750</td>\n",
       "    </tr>\n",
       "    <tr>\n",
       "      <th>min</th>\n",
       "      <td>145899.000000</td>\n",
       "      <td>1.486315e+09</td>\n",
       "      <td>1.020000</td>\n",
       "    </tr>\n",
       "    <tr>\n",
       "      <th>25%</th>\n",
       "      <td>172366.000000</td>\n",
       "      <td>1.509548e+09</td>\n",
       "      <td>2.300000</td>\n",
       "    </tr>\n",
       "    <tr>\n",
       "      <th>50%</th>\n",
       "      <td>198611.000000</td>\n",
       "      <td>1.550907e+09</td>\n",
       "      <td>3.200000</td>\n",
       "    </tr>\n",
       "    <tr>\n",
       "      <th>75%</th>\n",
       "      <td>227535.000000</td>\n",
       "      <td>1.564154e+09</td>\n",
       "      <td>3.900000</td>\n",
       "    </tr>\n",
       "    <tr>\n",
       "      <th>max</th>\n",
       "      <td>317867.000000</td>\n",
       "      <td>1.570729e+09</td>\n",
       "      <td>34.000000</td>\n",
       "    </tr>\n",
       "  </tbody>\n",
       "</table>\n",
       "</div>"
      ],
      "text/plain": [
       "            match_id     odd_epoch         value\n",
       "count   31713.000000  3.171300e+04  31713.000000\n",
       "mean   203653.726611  1.541379e+09      3.600759\n",
       "std     34813.350460  2.692774e+07      2.424750\n",
       "min    145899.000000  1.486315e+09      1.020000\n",
       "25%    172366.000000  1.509548e+09      2.300000\n",
       "50%    198611.000000  1.550907e+09      3.200000\n",
       "75%    227535.000000  1.564154e+09      3.900000\n",
       "max    317867.000000  1.570729e+09     34.000000"
      ]
     },
     "execution_count": 92,
     "metadata": {},
     "output_type": "execute_result"
    }
   ],
   "source": [
    "bets.describe()"
   ]
  },
  {
   "cell_type": "markdown",
   "metadata": {},
   "source": [
    "* especially values columns are analyzed in spite of min, max or mean"
   ]
  },
  {
   "cell_type": "code",
   "execution_count": 94,
   "metadata": {},
   "outputs": [],
   "source": [
    "bets_maxepoch = bets.groupby(['match_id', 'odd_bookmakers', 'variable'])['odd_epoch'].max().reset_index()"
   ]
  },
  {
   "cell_type": "code",
   "execution_count": 95,
   "metadata": {},
   "outputs": [
    {
     "data": {
      "text/html": [
       "<div>\n",
       "<style scoped>\n",
       "    .dataframe tbody tr th:only-of-type {\n",
       "        vertical-align: middle;\n",
       "    }\n",
       "\n",
       "    .dataframe tbody tr th {\n",
       "        vertical-align: top;\n",
       "    }\n",
       "\n",
       "    .dataframe thead th {\n",
       "        text-align: right;\n",
       "    }\n",
       "</style>\n",
       "<table border=\"1\" class=\"dataframe\">\n",
       "  <thead>\n",
       "    <tr style=\"text-align: right;\">\n",
       "      <th></th>\n",
       "      <th>match_id</th>\n",
       "      <th>odd_bookmakers</th>\n",
       "      <th>variable</th>\n",
       "      <th>odd_epoch</th>\n",
       "    </tr>\n",
       "  </thead>\n",
       "  <tbody>\n",
       "    <tr>\n",
       "      <th>0</th>\n",
       "      <td>145899</td>\n",
       "      <td>10Bet</td>\n",
       "      <td>odd_1</td>\n",
       "      <td>1489305781</td>\n",
       "    </tr>\n",
       "    <tr>\n",
       "      <th>1</th>\n",
       "      <td>145899</td>\n",
       "      <td>10Bet</td>\n",
       "      <td>odd_2</td>\n",
       "      <td>1489305781</td>\n",
       "    </tr>\n",
       "  </tbody>\n",
       "</table>\n",
       "</div>"
      ],
      "text/plain": [
       "   match_id odd_bookmakers variable   odd_epoch\n",
       "0    145899          10Bet    odd_1  1489305781\n",
       "1    145899          10Bet    odd_2  1489305781"
      ]
     },
     "execution_count": 95,
     "metadata": {},
     "output_type": "execute_result"
    }
   ],
   "source": [
    "bets_maxepoch.head(2)"
   ]
  },
  {
   "cell_type": "code",
   "execution_count": 550,
   "metadata": {},
   "outputs": [
    {
     "data": {
      "text/html": [
       "<div>\n",
       "<style scoped>\n",
       "    .dataframe tbody tr th:only-of-type {\n",
       "        vertical-align: middle;\n",
       "    }\n",
       "\n",
       "    .dataframe tbody tr th {\n",
       "        vertical-align: top;\n",
       "    }\n",
       "\n",
       "    .dataframe thead th {\n",
       "        text-align: right;\n",
       "    }\n",
       "</style>\n",
       "<table border=\"1\" class=\"dataframe\">\n",
       "  <thead>\n",
       "    <tr style=\"text-align: right;\">\n",
       "      <th></th>\n",
       "      <th>match_id</th>\n",
       "      <th>odd_bookmakers</th>\n",
       "      <th>odd_epoch</th>\n",
       "      <th>variable</th>\n",
       "      <th>value</th>\n",
       "    </tr>\n",
       "  </thead>\n",
       "  <tbody>\n",
       "    <tr>\n",
       "      <th>1</th>\n",
       "      <td>151780</td>\n",
       "      <td>10Bet</td>\n",
       "      <td>1486314920</td>\n",
       "      <td>odd_1</td>\n",
       "      <td>2.15</td>\n",
       "    </tr>\n",
       "    <tr>\n",
       "      <th>10</th>\n",
       "      <td>151780</td>\n",
       "      <td>bwin</td>\n",
       "      <td>1486314920</td>\n",
       "      <td>odd_1</td>\n",
       "      <td>2.15</td>\n",
       "    </tr>\n",
       "  </tbody>\n",
       "</table>\n",
       "</div>"
      ],
      "text/plain": [
       "    match_id odd_bookmakers   odd_epoch variable  value\n",
       "1     151780          10Bet  1486314920    odd_1   2.15\n",
       "10    151780           bwin  1486314920    odd_1   2.15"
      ]
     },
     "execution_count": 550,
     "metadata": {},
     "output_type": "execute_result"
    }
   ],
   "source": [
    "bets.head(2)"
   ]
  },
  {
   "cell_type": "code",
   "execution_count": 96,
   "metadata": {},
   "outputs": [],
   "source": [
    "bets = pd.merge (bets,bets_maxepoch, how='right', on=bets_maxepoch.columns.tolist())"
   ]
  },
  {
   "cell_type": "code",
   "execution_count": 552,
   "metadata": {},
   "outputs": [
    {
     "data": {
      "text/plain": [
       "(24825, 1)"
      ]
     },
     "execution_count": 552,
     "metadata": {},
     "output_type": "execute_result"
    }
   ],
   "source": [
    "bets_control = bets.groupby(['match_id', 'odd_bookmakers', 'odd_epoch', 'variable']).count()\n",
    "bets_control.shape"
   ]
  },
  {
   "cell_type": "code",
   "execution_count": 553,
   "metadata": {},
   "outputs": [
    {
     "data": {
      "text/plain": [
       "(24825, 5)"
      ]
     },
     "execution_count": 553,
     "metadata": {},
     "output_type": "execute_result"
    }
   ],
   "source": [
    "bets.shape"
   ]
  },
  {
   "cell_type": "markdown",
   "metadata": {},
   "source": [
    " * Data must be singular based on matchid, odd_bookmakers,odd_epoch, variable"
   ]
  },
  {
   "cell_type": "markdown",
   "metadata": {},
   "source": [
    "* Based on match_id, odd_bookmakers, odd_epoch must be 3 type of variable and 3 row count"
   ]
  },
  {
   "cell_type": "code",
   "execution_count": 97,
   "metadata": {},
   "outputs": [],
   "source": [
    "bets_pivot = pd.pivot_table(bets,index=['match_id','odd_bookmakers','odd_epoch'] ,columns='variable',values='value').reset_index()"
   ]
  },
  {
   "cell_type": "code",
   "execution_count": 99,
   "metadata": {},
   "outputs": [
    {
     "data": {
      "text/html": [
       "<div>\n",
       "<style scoped>\n",
       "    .dataframe tbody tr th:only-of-type {\n",
       "        vertical-align: middle;\n",
       "    }\n",
       "\n",
       "    .dataframe tbody tr th {\n",
       "        vertical-align: top;\n",
       "    }\n",
       "\n",
       "    .dataframe thead th {\n",
       "        text-align: right;\n",
       "    }\n",
       "</style>\n",
       "<table border=\"1\" class=\"dataframe\">\n",
       "  <thead>\n",
       "    <tr style=\"text-align: right;\">\n",
       "      <th>variable</th>\n",
       "      <th>match_id</th>\n",
       "      <th>odd_bookmakers</th>\n",
       "      <th>odd_epoch</th>\n",
       "      <th>odd_1</th>\n",
       "      <th>odd_2</th>\n",
       "      <th>odd_x</th>\n",
       "    </tr>\n",
       "  </thead>\n",
       "  <tbody>\n",
       "    <tr>\n",
       "      <th>0</th>\n",
       "      <td>145899</td>\n",
       "      <td>10Bet</td>\n",
       "      <td>1489305781</td>\n",
       "      <td>6.75</td>\n",
       "      <td>1.29</td>\n",
       "      <td>5.25</td>\n",
       "    </tr>\n",
       "    <tr>\n",
       "      <th>1</th>\n",
       "      <td>145899</td>\n",
       "      <td>Marathonbet</td>\n",
       "      <td>1489305781</td>\n",
       "      <td>7.60</td>\n",
       "      <td>1.44</td>\n",
       "      <td>4.75</td>\n",
       "    </tr>\n",
       "  </tbody>\n",
       "</table>\n",
       "</div>"
      ],
      "text/plain": [
       "variable  match_id odd_bookmakers   odd_epoch  odd_1  odd_2  odd_x\n",
       "0           145899          10Bet  1489305781   6.75   1.29   5.25\n",
       "1           145899    Marathonbet  1489305781   7.60   1.44   4.75"
      ]
     },
     "execution_count": 99,
     "metadata": {},
     "output_type": "execute_result"
    }
   ],
   "source": [
    "bets_pivot.head(2)"
   ]
  },
  {
   "cell_type": "code",
   "execution_count": 100,
   "metadata": {},
   "outputs": [],
   "source": [
    "bets_pivot['prob_odd_1'] = 1/bets_pivot['odd_1']\n",
    "bets_pivot['prob_odd_x'] = 1/bets_pivot['odd_x']\n",
    "bets_pivot['prob_odd_2'] = 1/bets_pivot['odd_2']"
   ]
  },
  {
   "cell_type": "code",
   "execution_count": 101,
   "metadata": {},
   "outputs": [],
   "source": [
    "bets_pivot['normalization'] = bets_pivot['prob_odd_1'] + bets_pivot['prob_odd_x'] + bets_pivot['prob_odd_2']"
   ]
  },
  {
   "cell_type": "code",
   "execution_count": 103,
   "metadata": {},
   "outputs": [],
   "source": [
    "bets_pivot['norm_odd_1'] = bets_pivot['prob_odd_1'] / bets_pivot['normalization']\n",
    "bets_pivot['norm_odd_2'] = bets_pivot['prob_odd_2'] / bets_pivot['normalization']\n",
    "bets_pivot['norm_odd_x'] = bets_pivot['prob_odd_x'] / bets_pivot['normalization']"
   ]
  },
  {
   "cell_type": "code",
   "execution_count": 111,
   "metadata": {},
   "outputs": [
    {
     "data": {
      "text/html": [
       "<div>\n",
       "<style scoped>\n",
       "    .dataframe tbody tr th:only-of-type {\n",
       "        vertical-align: middle;\n",
       "    }\n",
       "\n",
       "    .dataframe tbody tr th {\n",
       "        vertical-align: top;\n",
       "    }\n",
       "\n",
       "    .dataframe thead th {\n",
       "        text-align: right;\n",
       "    }\n",
       "</style>\n",
       "<table border=\"1\" class=\"dataframe\">\n",
       "  <thead>\n",
       "    <tr style=\"text-align: right;\">\n",
       "      <th></th>\n",
       "      <th>match_id</th>\n",
       "      <th>odd_bookmakers</th>\n",
       "      <th>odd_epoch</th>\n",
       "      <th>odd_1</th>\n",
       "      <th>odd_2</th>\n",
       "      <th>odd_x</th>\n",
       "      <th>prob_odd_1</th>\n",
       "      <th>prob_odd_x</th>\n",
       "      <th>prob_odd_2</th>\n",
       "      <th>normalization</th>\n",
       "      <th>norm_odd_1</th>\n",
       "      <th>norm_odd_2</th>\n",
       "      <th>norm_odd_x</th>\n",
       "      <th>match_hometeam_score</th>\n",
       "      <th>match_awayteam_score</th>\n",
       "      <th>match_hometeam_extra_score</th>\n",
       "      <th>match_awayteam_extra_score</th>\n",
       "    </tr>\n",
       "  </thead>\n",
       "  <tbody>\n",
       "    <tr>\n",
       "      <th>0</th>\n",
       "      <td>150842</td>\n",
       "      <td>Marathonbet</td>\n",
       "      <td>1486711421</td>\n",
       "      <td>5.2</td>\n",
       "      <td>1.75</td>\n",
       "      <td>3.7</td>\n",
       "      <td>0.192308</td>\n",
       "      <td>0.27027</td>\n",
       "      <td>0.571429</td>\n",
       "      <td>1.034007</td>\n",
       "      <td>0.185983</td>\n",
       "      <td>0.552635</td>\n",
       "      <td>0.261382</td>\n",
       "      <td>0.0</td>\n",
       "      <td>0.0</td>\n",
       "      <td>0.0</td>\n",
       "      <td>0.0</td>\n",
       "    </tr>\n",
       "    <tr>\n",
       "      <th>1</th>\n",
       "      <td>150844</td>\n",
       "      <td>Marathonbet</td>\n",
       "      <td>1486711426</td>\n",
       "      <td>3.1</td>\n",
       "      <td>2.44</td>\n",
       "      <td>3.3</td>\n",
       "      <td>0.322581</td>\n",
       "      <td>0.30303</td>\n",
       "      <td>0.409836</td>\n",
       "      <td>1.035447</td>\n",
       "      <td>0.311538</td>\n",
       "      <td>0.395806</td>\n",
       "      <td>0.292657</td>\n",
       "      <td>3.0</td>\n",
       "      <td>1.0</td>\n",
       "      <td>1.0</td>\n",
       "      <td>0.0</td>\n",
       "    </tr>\n",
       "  </tbody>\n",
       "</table>\n",
       "</div>"
      ],
      "text/plain": [
       "   match_id odd_bookmakers   odd_epoch  odd_1  odd_2  odd_x  prob_odd_1  \\\n",
       "0    150842    Marathonbet  1486711421    5.2   1.75    3.7    0.192308   \n",
       "1    150844    Marathonbet  1486711426    3.1   2.44    3.3    0.322581   \n",
       "\n",
       "   prob_odd_x  prob_odd_2  normalization  norm_odd_1  norm_odd_2  norm_odd_x  \\\n",
       "0     0.27027    0.571429       1.034007    0.185983    0.552635    0.261382   \n",
       "1     0.30303    0.409836       1.035447    0.311538    0.395806    0.292657   \n",
       "\n",
       "   match_hometeam_score  match_awayteam_score  match_hometeam_extra_score  \\\n",
       "0                   0.0                   0.0                         0.0   \n",
       "1                   3.0                   1.0                         1.0   \n",
       "\n",
       "   match_awayteam_extra_score  \n",
       "0                         0.0  \n",
       "1                         0.0  "
      ]
     },
     "execution_count": 111,
     "metadata": {},
     "output_type": "execute_result"
    }
   ],
   "source": [
    "bets_pivot.head(2)"
   ]
  },
  {
   "cell_type": "code",
   "execution_count": 110,
   "metadata": {},
   "outputs": [
    {
     "data": {
      "text/html": [
       "<div>\n",
       "<style scoped>\n",
       "    .dataframe tbody tr th:only-of-type {\n",
       "        vertical-align: middle;\n",
       "    }\n",
       "\n",
       "    .dataframe tbody tr th {\n",
       "        vertical-align: top;\n",
       "    }\n",
       "\n",
       "    .dataframe thead th {\n",
       "        text-align: right;\n",
       "    }\n",
       "</style>\n",
       "<table border=\"1\" class=\"dataframe\">\n",
       "  <thead>\n",
       "    <tr style=\"text-align: right;\">\n",
       "      <th></th>\n",
       "      <th>match_id</th>\n",
       "      <th>match_hometeam_score</th>\n",
       "      <th>match_awayteam_score</th>\n",
       "      <th>match_hometeam_extra_score</th>\n",
       "      <th>match_awayteam_extra_score</th>\n",
       "      <th>difference</th>\n",
       "    </tr>\n",
       "  </thead>\n",
       "  <tbody>\n",
       "    <tr>\n",
       "      <th>1</th>\n",
       "      <td>13331</td>\n",
       "      <td>0.0</td>\n",
       "      <td>1.0</td>\n",
       "      <td>0.0</td>\n",
       "      <td>1.0</td>\n",
       "      <td>-1.0</td>\n",
       "    </tr>\n",
       "    <tr>\n",
       "      <th>5</th>\n",
       "      <td>13329</td>\n",
       "      <td>0.0</td>\n",
       "      <td>6.0</td>\n",
       "      <td>0.0</td>\n",
       "      <td>3.0</td>\n",
       "      <td>-6.0</td>\n",
       "    </tr>\n",
       "  </tbody>\n",
       "</table>\n",
       "</div>"
      ],
      "text/plain": [
       "   match_id  match_hometeam_score  match_awayteam_score  \\\n",
       "1     13331                   0.0                   1.0   \n",
       "5     13329                   0.0                   6.0   \n",
       "\n",
       "   match_hometeam_extra_score  match_awayteam_extra_score  difference  \n",
       "1                         0.0                         1.0        -1.0  \n",
       "5                         0.0                         3.0        -6.0  "
      ]
     },
     "execution_count": 110,
     "metadata": {},
     "output_type": "execute_result"
    }
   ],
   "source": [
    "matches_premier.head(2)"
   ]
  },
  {
   "cell_type": "code",
   "execution_count": 109,
   "metadata": {
    "collapsed": true
   },
   "outputs": [
    {
     "ename": "KeyError",
     "evalue": "\"['match_hometeam_score', 'match_awayteam_extra_score', 'match_awayteam_score', 'match_hometeam_extra_score'] not in index\"",
     "output_type": "error",
     "traceback": [
      "\u001b[1;31m---------------------------------------------------------------------------\u001b[0m",
      "\u001b[1;31mKeyError\u001b[0m                                  Traceback (most recent call last)",
      "\u001b[1;32m<ipython-input-109-ef3e8b9ad1bb>\u001b[0m in \u001b[0;36m<module>\u001b[1;34m\u001b[0m\n\u001b[1;32m----> 1\u001b[1;33m \u001b[0mbets_pivot\u001b[0m \u001b[1;33m=\u001b[0m \u001b[0mpd\u001b[0m\u001b[1;33m.\u001b[0m\u001b[0mmerge\u001b[0m\u001b[1;33m(\u001b[0m\u001b[0mmatches_premier\u001b[0m\u001b[1;33m,\u001b[0m \u001b[0mbets_pivot\u001b[0m\u001b[1;33m,\u001b[0m \u001b[0mhow\u001b[0m\u001b[1;33m=\u001b[0m\u001b[1;34m'inner'\u001b[0m\u001b[1;33m,\u001b[0m \u001b[0mon\u001b[0m\u001b[1;33m=\u001b[0m\u001b[1;34m'match_id'\u001b[0m\u001b[1;33m)\u001b[0m\u001b[1;33m[\u001b[0m\u001b[0mbets_pivot\u001b[0m\u001b[1;33m.\u001b[0m\u001b[0mcolumns\u001b[0m\u001b[1;33m.\u001b[0m\u001b[0mtolist\u001b[0m\u001b[1;33m(\u001b[0m\u001b[1;33m)\u001b[0m \u001b[1;33m+\u001b[0m \u001b[1;33m[\u001b[0m\u001b[1;34m'match_hometeam_score'\u001b[0m\u001b[1;33m,\u001b[0m \u001b[1;34m'match_awayteam_score'\u001b[0m\u001b[1;33m,\u001b[0m \u001b[1;34m'match_hometeam_extra_score'\u001b[0m\u001b[1;33m,\u001b[0m \u001b[1;34m'match_awayteam_extra_score'\u001b[0m\u001b[1;33m]\u001b[0m\u001b[1;33m]\u001b[0m\u001b[1;33m\u001b[0m\u001b[1;33m\u001b[0m\u001b[0m\n\u001b[0m",
      "\u001b[1;32m~\\AppData\\Local\\Continuum\\anaconda3\\lib\\site-packages\\pandas\\core\\frame.py\u001b[0m in \u001b[0;36m__getitem__\u001b[1;34m(self, key)\u001b[0m\n\u001b[0;32m   2932\u001b[0m                 \u001b[0mkey\u001b[0m \u001b[1;33m=\u001b[0m \u001b[0mlist\u001b[0m\u001b[1;33m(\u001b[0m\u001b[0mkey\u001b[0m\u001b[1;33m)\u001b[0m\u001b[1;33m\u001b[0m\u001b[1;33m\u001b[0m\u001b[0m\n\u001b[0;32m   2933\u001b[0m             indexer = self.loc._convert_to_indexer(key, axis=1,\n\u001b[1;32m-> 2934\u001b[1;33m                                                    raise_missing=True)\n\u001b[0m\u001b[0;32m   2935\u001b[0m \u001b[1;33m\u001b[0m\u001b[0m\n\u001b[0;32m   2936\u001b[0m         \u001b[1;31m# take() does not accept boolean indexers\u001b[0m\u001b[1;33m\u001b[0m\u001b[1;33m\u001b[0m\u001b[1;33m\u001b[0m\u001b[0m\n",
      "\u001b[1;32m~\\AppData\\Local\\Continuum\\anaconda3\\lib\\site-packages\\pandas\\core\\indexing.py\u001b[0m in \u001b[0;36m_convert_to_indexer\u001b[1;34m(self, obj, axis, is_setter, raise_missing)\u001b[0m\n\u001b[0;32m   1352\u001b[0m                 kwargs = {'raise_missing': True if is_setter else\n\u001b[0;32m   1353\u001b[0m                           raise_missing}\n\u001b[1;32m-> 1354\u001b[1;33m                 \u001b[1;32mreturn\u001b[0m \u001b[0mself\u001b[0m\u001b[1;33m.\u001b[0m\u001b[0m_get_listlike_indexer\u001b[0m\u001b[1;33m(\u001b[0m\u001b[0mobj\u001b[0m\u001b[1;33m,\u001b[0m \u001b[0maxis\u001b[0m\u001b[1;33m,\u001b[0m \u001b[1;33m**\u001b[0m\u001b[0mkwargs\u001b[0m\u001b[1;33m)\u001b[0m\u001b[1;33m[\u001b[0m\u001b[1;36m1\u001b[0m\u001b[1;33m]\u001b[0m\u001b[1;33m\u001b[0m\u001b[1;33m\u001b[0m\u001b[0m\n\u001b[0m\u001b[0;32m   1355\u001b[0m         \u001b[1;32melse\u001b[0m\u001b[1;33m:\u001b[0m\u001b[1;33m\u001b[0m\u001b[1;33m\u001b[0m\u001b[0m\n\u001b[0;32m   1356\u001b[0m             \u001b[1;32mtry\u001b[0m\u001b[1;33m:\u001b[0m\u001b[1;33m\u001b[0m\u001b[1;33m\u001b[0m\u001b[0m\n",
      "\u001b[1;32m~\\AppData\\Local\\Continuum\\anaconda3\\lib\\site-packages\\pandas\\core\\indexing.py\u001b[0m in \u001b[0;36m_get_listlike_indexer\u001b[1;34m(self, key, axis, raise_missing)\u001b[0m\n\u001b[0;32m   1159\u001b[0m         self._validate_read_indexer(keyarr, indexer,\n\u001b[0;32m   1160\u001b[0m                                     \u001b[0mo\u001b[0m\u001b[1;33m.\u001b[0m\u001b[0m_get_axis_number\u001b[0m\u001b[1;33m(\u001b[0m\u001b[0maxis\u001b[0m\u001b[1;33m)\u001b[0m\u001b[1;33m,\u001b[0m\u001b[1;33m\u001b[0m\u001b[1;33m\u001b[0m\u001b[0m\n\u001b[1;32m-> 1161\u001b[1;33m                                     raise_missing=raise_missing)\n\u001b[0m\u001b[0;32m   1162\u001b[0m         \u001b[1;32mreturn\u001b[0m \u001b[0mkeyarr\u001b[0m\u001b[1;33m,\u001b[0m \u001b[0mindexer\u001b[0m\u001b[1;33m\u001b[0m\u001b[1;33m\u001b[0m\u001b[0m\n\u001b[0;32m   1163\u001b[0m \u001b[1;33m\u001b[0m\u001b[0m\n",
      "\u001b[1;32m~\\AppData\\Local\\Continuum\\anaconda3\\lib\\site-packages\\pandas\\core\\indexing.py\u001b[0m in \u001b[0;36m_validate_read_indexer\u001b[1;34m(self, key, indexer, axis, raise_missing)\u001b[0m\n\u001b[0;32m   1250\u001b[0m             \u001b[1;32mif\u001b[0m \u001b[1;32mnot\u001b[0m\u001b[1;33m(\u001b[0m\u001b[0mself\u001b[0m\u001b[1;33m.\u001b[0m\u001b[0mname\u001b[0m \u001b[1;33m==\u001b[0m \u001b[1;34m'loc'\u001b[0m \u001b[1;32mand\u001b[0m \u001b[1;32mnot\u001b[0m \u001b[0mraise_missing\u001b[0m\u001b[1;33m)\u001b[0m\u001b[1;33m:\u001b[0m\u001b[1;33m\u001b[0m\u001b[1;33m\u001b[0m\u001b[0m\n\u001b[0;32m   1251\u001b[0m                 \u001b[0mnot_found\u001b[0m \u001b[1;33m=\u001b[0m \u001b[0mlist\u001b[0m\u001b[1;33m(\u001b[0m\u001b[0mset\u001b[0m\u001b[1;33m(\u001b[0m\u001b[0mkey\u001b[0m\u001b[1;33m)\u001b[0m \u001b[1;33m-\u001b[0m \u001b[0mset\u001b[0m\u001b[1;33m(\u001b[0m\u001b[0max\u001b[0m\u001b[1;33m)\u001b[0m\u001b[1;33m)\u001b[0m\u001b[1;33m\u001b[0m\u001b[1;33m\u001b[0m\u001b[0m\n\u001b[1;32m-> 1252\u001b[1;33m                 \u001b[1;32mraise\u001b[0m \u001b[0mKeyError\u001b[0m\u001b[1;33m(\u001b[0m\u001b[1;34m\"{} not in index\"\u001b[0m\u001b[1;33m.\u001b[0m\u001b[0mformat\u001b[0m\u001b[1;33m(\u001b[0m\u001b[0mnot_found\u001b[0m\u001b[1;33m)\u001b[0m\u001b[1;33m)\u001b[0m\u001b[1;33m\u001b[0m\u001b[1;33m\u001b[0m\u001b[0m\n\u001b[0m\u001b[0;32m   1253\u001b[0m \u001b[1;33m\u001b[0m\u001b[0m\n\u001b[0;32m   1254\u001b[0m             \u001b[1;31m# we skip the warning on Categorical/Interval\u001b[0m\u001b[1;33m\u001b[0m\u001b[1;33m\u001b[0m\u001b[1;33m\u001b[0m\u001b[0m\n",
      "\u001b[1;31mKeyError\u001b[0m: \"['match_hometeam_score', 'match_awayteam_extra_score', 'match_awayteam_score', 'match_hometeam_extra_score'] not in index\""
     ]
    }
   ],
   "source": [
    "bets_pivot = pd.merge(matches_premier, bets_pivot, how='inner', on='match_id')[bets_pivot.columns.tolist() + ['match_hometeam_score', 'match_awayteam_score', 'match_hometeam_extra_score', 'match_awayteam_extra_score']]"
   ]
  },
  {
   "cell_type": "code",
   "execution_count": 113,
   "metadata": {},
   "outputs": [],
   "source": [
    "bets_pivot['home-away'] = bets_pivot['prob_odd_1'] -  bets_pivot['prob_odd_2']\n"
   ]
  },
  {
   "cell_type": "code",
   "execution_count": 114,
   "metadata": {},
   "outputs": [],
   "source": [
    "bets_pivot['draw_flag'] = np.where(bets_pivot.match_hometeam_score - bets_pivot.match_awayteam_score==0, 1, 0)"
   ]
  },
  {
   "cell_type": "code",
   "execution_count": 125,
   "metadata": {},
   "outputs": [
    {
     "data": {
      "text/html": [
       "<div>\n",
       "<style scoped>\n",
       "    .dataframe tbody tr th:only-of-type {\n",
       "        vertical-align: middle;\n",
       "    }\n",
       "\n",
       "    .dataframe tbody tr th {\n",
       "        vertical-align: top;\n",
       "    }\n",
       "\n",
       "    .dataframe thead th {\n",
       "        text-align: right;\n",
       "    }\n",
       "</style>\n",
       "<table border=\"1\" class=\"dataframe\">\n",
       "  <thead>\n",
       "    <tr style=\"text-align: right;\">\n",
       "      <th></th>\n",
       "      <th>match_id</th>\n",
       "      <th>odd_bookmakers</th>\n",
       "      <th>odd_epoch</th>\n",
       "      <th>odd_1</th>\n",
       "      <th>odd_2</th>\n",
       "      <th>odd_x</th>\n",
       "      <th>prob_odd_1</th>\n",
       "      <th>prob_odd_x</th>\n",
       "      <th>prob_odd_2</th>\n",
       "      <th>normalization</th>\n",
       "      <th>norm_odd_1</th>\n",
       "      <th>norm_odd_2</th>\n",
       "      <th>norm_odd_x</th>\n",
       "      <th>match_hometeam_score</th>\n",
       "      <th>match_awayteam_score</th>\n",
       "      <th>match_hometeam_extra_score</th>\n",
       "      <th>match_awayteam_extra_score</th>\n",
       "      <th>home-away</th>\n",
       "      <th>draw_flag</th>\n",
       "    </tr>\n",
       "  </thead>\n",
       "  <tbody>\n",
       "    <tr>\n",
       "      <th>0</th>\n",
       "      <td>150842</td>\n",
       "      <td>Marathonbet</td>\n",
       "      <td>1486711421</td>\n",
       "      <td>5.2</td>\n",
       "      <td>1.75</td>\n",
       "      <td>3.7</td>\n",
       "      <td>0.192308</td>\n",
       "      <td>0.27027</td>\n",
       "      <td>0.571429</td>\n",
       "      <td>1.034007</td>\n",
       "      <td>0.185983</td>\n",
       "      <td>0.552635</td>\n",
       "      <td>0.261382</td>\n",
       "      <td>0.0</td>\n",
       "      <td>0.0</td>\n",
       "      <td>0.0</td>\n",
       "      <td>0.0</td>\n",
       "      <td>-0.379121</td>\n",
       "      <td>1</td>\n",
       "    </tr>\n",
       "    <tr>\n",
       "      <th>1</th>\n",
       "      <td>150844</td>\n",
       "      <td>Marathonbet</td>\n",
       "      <td>1486711426</td>\n",
       "      <td>3.1</td>\n",
       "      <td>2.44</td>\n",
       "      <td>3.3</td>\n",
       "      <td>0.322581</td>\n",
       "      <td>0.30303</td>\n",
       "      <td>0.409836</td>\n",
       "      <td>1.035447</td>\n",
       "      <td>0.311538</td>\n",
       "      <td>0.395806</td>\n",
       "      <td>0.292657</td>\n",
       "      <td>3.0</td>\n",
       "      <td>1.0</td>\n",
       "      <td>1.0</td>\n",
       "      <td>0.0</td>\n",
       "      <td>-0.087255</td>\n",
       "      <td>0</td>\n",
       "    </tr>\n",
       "  </tbody>\n",
       "</table>\n",
       "</div>"
      ],
      "text/plain": [
       "   match_id odd_bookmakers   odd_epoch  odd_1  odd_2  odd_x  prob_odd_1  \\\n",
       "0    150842    Marathonbet  1486711421    5.2   1.75    3.7    0.192308   \n",
       "1    150844    Marathonbet  1486711426    3.1   2.44    3.3    0.322581   \n",
       "\n",
       "   prob_odd_x  prob_odd_2  normalization  norm_odd_1  norm_odd_2  norm_odd_x  \\\n",
       "0     0.27027    0.571429       1.034007    0.185983    0.552635    0.261382   \n",
       "1     0.30303    0.409836       1.035447    0.311538    0.395806    0.292657   \n",
       "\n",
       "   match_hometeam_score  match_awayteam_score  match_hometeam_extra_score  \\\n",
       "0                   0.0                   0.0                         0.0   \n",
       "1                   3.0                   1.0                         1.0   \n",
       "\n",
       "   match_awayteam_extra_score  home-away  draw_flag  \n",
       "0                         0.0  -0.379121          1  \n",
       "1                         0.0  -0.087255          0  "
      ]
     },
     "execution_count": 125,
     "metadata": {},
     "output_type": "execute_result"
    }
   ],
   "source": [
    "bets_pivot.head(2)"
   ]
  },
  {
   "cell_type": "code",
   "execution_count": 117,
   "metadata": {},
   "outputs": [],
   "source": [
    "bin_data = bets_pivot[bets_pivot['odd_bookmakers']=='Marathonbet'][['home-away', 'draw_flag']]\n",
    "bins = [-1, -0.75, -0.5, -0.25, 0, 0.25, 0.5, 0.75, 1]\n",
    "bin_data['range'] = pd.cut(bin_data['home-away'], bins=[-1, -0.75, -0.5, -0.25, 0, 0.25, 0.5, 0.75, 1], right=True, labels=False)+1"
   ]
  },
  {
   "cell_type": "code",
   "execution_count": 130,
   "metadata": {},
   "outputs": [],
   "source": [
    "actual = bin_data.groupby(['range']).sum()/bin_data.groupby(['range']).count()"
   ]
  },
  {
   "cell_type": "code",
   "execution_count": 131,
   "metadata": {},
   "outputs": [],
   "source": [
    "bin_ranges = []\n",
    "for i in range(len(bins)-1):\n",
    "    bin_ranges.append((bins[i]+ bins[i+1])/2)"
   ]
  },
  {
   "cell_type": "code",
   "execution_count": 236,
   "metadata": {
    "scrolled": true
   },
   "outputs": [
    {
     "data": {
      "text/plain": [
       "<matplotlib.legend.Legend at 0x25329f1d8d0>"
      ]
     },
     "execution_count": 236,
     "metadata": {},
     "output_type": "execute_result"
    },
    {
     "data": {
      "image/png": "[encoded data removed]",
      "text/plain": [
       "<Figure size 432x288 with 1 Axes>"
      ]
     },
     "metadata": {
      "needs_background": "light"
     },
     "output_type": "display_data"
    }
   ],
   "source": [
    "ax = sns.scatterplot(x=\"home-away\", \n",
    "                       y=\"norm_odd_x\",\n",
    "                       data=bets_pivot[bets_pivot['odd_bookmakers']=='Marathonbet']).set_title('MarathonBet', fontsize = 15)\n",
    "\n",
    "plt.plot(bin_ranges,actual['draw_flag'])\n",
    "plt.xlabel('P(Home)-P(Away)')\n",
    "plt.ylabel('P(Draw)')\n",
    "plt.legend(loc='best', labels=['actual_outcome', 'bookmakers_probabilties'])\n"
   ]
  },
  {
   "cell_type": "code",
   "execution_count": 139,
   "metadata": {},
   "outputs": [],
   "source": [
    "bin_data = bets_pivot[bets_pivot['odd_bookmakers']=='10Bet'][['home-away', 'draw_flag']]\n",
    "bins = [-1, -0.75, -0.5, -0.25, 0, 0.25, 0.5, 0.75, 1]\n",
    "bin_data['range'] = pd.cut(bin_data['home-away'], bins=[-1, -0.75, -0.5, -0.25, 0, 0.25, 0.5, 0.75, 1], right=True, labels=False)+1"
   ]
  },
  {
   "cell_type": "code",
   "execution_count": 140,
   "metadata": {},
   "outputs": [],
   "source": [
    "actual = bin_data.groupby(['range']).sum()/bin_data.groupby(['range']).count()"
   ]
  },
  {
   "cell_type": "code",
   "execution_count": 141,
   "metadata": {},
   "outputs": [],
   "source": [
    "bin_ranges = []\n",
    "for i in range(len(bins)-1):\n",
    "    bin_ranges.append((bins[i]+ bins[i+1])/2)"
   ]
  },
  {
   "cell_type": "code",
   "execution_count": 227,
   "metadata": {},
   "outputs": [
    {
     "data": {
      "text/plain": [
       "<matplotlib.legend.Legend at 0x2532c0f3f98>"
      ]
     },
     "execution_count": 227,
     "metadata": {},
     "output_type": "execute_result"
    },
    {
     "data": {
      "image/png": "[encoded data removed]",
      "text/plain": [
       "<Figure size 432x288 with 1 Axes>"
      ]
     },
     "metadata": {
      "needs_background": "light"
     },
     "output_type": "display_data"
    }
   ],
   "source": [
    "ax = sns.scatterplot(x=\"home-away\", \n",
    "                       y=\"norm_odd_x\",\n",
    "                       data=bets_pivot[bets_pivot['odd_bookmakers']=='10Bet']).set_title('10Bet', fontsize = 15)\n",
    "\n",
    "plt.plot(bin_ranges,actual['draw_flag'])\n",
    "plt.xlabel('P(Home)-P(Away)')\n",
    "plt.ylabel('P(Draw)')\n",
    "plt.legend(loc='best', labels=['actual_outcome', 'bookmakers_probabilties'])"
   ]
  },
  {
   "cell_type": "code",
   "execution_count": 143,
   "metadata": {},
   "outputs": [],
   "source": [
    "bin_data = bets_pivot[bets_pivot['odd_bookmakers']=='bwin'][['home-away', 'draw_flag']]\n",
    "bins = [-1, -0.75, -0.5, -0.25, 0, 0.25, 0.5, 0.75, 1]\n",
    "bin_data['range'] = pd.cut(bin_data['home-away'], bins=[-1, -0.75, -0.5, -0.25, 0, 0.25, 0.5, 0.75, 1], right=True, labels=False)+1\n",
    "actual = bin_data.groupby(['range']).sum()/bin_data.groupby(['range']).count()\n",
    "bin_ranges = []\n",
    "for i in range(len(bins)-1):\n",
    "    bin_ranges.append((bins[i]+ bins[i+1])/2)"
   ]
  },
  {
   "cell_type": "code",
   "execution_count": 228,
   "metadata": {},
   "outputs": [
    {
     "data": {
      "text/plain": [
       "<matplotlib.legend.Legend at 0x2532c16ba90>"
      ]
     },
     "execution_count": 228,
     "metadata": {},
     "output_type": "execute_result"
    },
    {
     "data": {
      "image/png": "[encoded data removed]",
      "text/plain": [
       "<Figure size 432x288 with 1 Axes>"
      ]
     },
     "metadata": {
      "needs_background": "light"
     },
     "output_type": "display_data"
    }
   ],
   "source": [
    "ax = sns.scatterplot(x=\"home-away\", \n",
    "                       y=\"norm_odd_x\",\n",
    "                       data=bets_pivot[bets_pivot['odd_bookmakers']=='bwin']).set_title('bwin', fontsize = 15)\n",
    "\n",
    "plt.plot(bin_ranges,actual['draw_flag'])\n",
    "plt.xlabel('P(Home)-P(Away)')\n",
    "plt.ylabel('P(Draw)')\n",
    "plt.legend(loc='best', labels=['actual_outcome', 'bookmakers_probabilties'])"
   ]
  },
  {
   "cell_type": "code",
   "execution_count": 146,
   "metadata": {},
   "outputs": [],
   "source": [
    "bin_data = bets_pivot[bets_pivot['odd_bookmakers']=='Unibet'][['home-away', 'draw_flag']]\n",
    "bins = [-1, -0.75, -0.5, -0.25, 0, 0.25, 0.5, 0.75, 1]\n",
    "bin_data['range'] = pd.cut(bin_data['home-away'], bins=[-1, -0.75, -0.5, -0.25, 0, 0.25, 0.5, 0.75, 1], right=True, labels=False)+1\n",
    "actual = bin_data.groupby(['range']).sum()/bin_data.groupby(['range']).count()\n",
    "bin_ranges = []\n",
    "for i in range(len(bins)-1):\n",
    "    bin_ranges.append((bins[i]+ bins[i+1])/2)"
   ]
  },
  {
   "cell_type": "code",
   "execution_count": 229,
   "metadata": {},
   "outputs": [
    {
     "data": {
      "text/plain": [
       "<matplotlib.legend.Legend at 0x2532c23e4e0>"
      ]
     },
     "execution_count": 229,
     "metadata": {},
     "output_type": "execute_result"
    },
    {
     "data": {
      "image/png": "[encoded data removed]",
      "text/plain": [
       "<Figure size 432x288 with 1 Axes>"
      ]
     },
     "metadata": {
      "needs_background": "light"
     },
     "output_type": "display_data"
    }
   ],
   "source": [
    "ax = sns.scatterplot(x=\"home-away\", \n",
    "                       y=\"norm_odd_x\",\n",
    "                       data=bets_pivot[bets_pivot['odd_bookmakers']=='Unibet']).set_title('Unibet', fontsize = 15)\n",
    "\n",
    "\n",
    "plt.plot(bin_ranges,actual['draw_flag'])\n",
    "plt.xlabel('P(Home)-P(Away)')\n",
    "plt.ylabel('P(Draw)')\n",
    "plt.legend(loc='best', labels=['actual_outcome', 'bookmakers_probabilties'])"
   ]
  },
  {
   "cell_type": "markdown",
   "metadata": {},
   "source": [
    "* Odds has not been well-aligned with the actual outcome of the matches in any case\n"
   ]
  },
  {
   "cell_type": "markdown",
   "metadata": {},
   "source": [
    "## Task - 3"
   ]
  },
  {
   "cell_type": "code",
   "execution_count": 386,
   "metadata": {},
   "outputs": [
    {
     "name": "stdout",
     "output_type": "stream",
     "text": [
      "<class 'pandas.core.frame.DataFrame'>\n",
      "Int64Index: 14920 entries, 1 to 16613\n",
      "Data columns (total 5 columns):\n",
      "match_id      14920 non-null int64\n",
      "time          14920 non-null object\n",
      "home_fault    7093 non-null object\n",
      "card          14920 non-null object\n",
      "away_fault    7813 non-null object\n",
      "dtypes: int64(1), object(4)\n",
      "memory usage: 699.4+ KB\n"
     ]
    }
   ],
   "source": [
    "booking.info()"
   ]
  },
  {
   "cell_type": "code",
   "execution_count": 150,
   "metadata": {},
   "outputs": [
    {
     "data": {
      "text/plain": [
       "(16615, 5)"
      ]
     },
     "execution_count": 150,
     "metadata": {},
     "output_type": "execute_result"
    }
   ],
   "source": [
    "booking.shape"
   ]
  },
  {
   "cell_type": "code",
   "execution_count": 152,
   "metadata": {},
   "outputs": [],
   "source": [
    "booking = booking[~(booking['time'].str.contains('\\+'))]"
   ]
  },
  {
   "cell_type": "code",
   "execution_count": 153,
   "metadata": {},
   "outputs": [],
   "source": [
    "booking_for10min = booking[(booking['time'].astype(int)<10) & (booking['card']=='red card')] "
   ]
  },
  {
   "cell_type": "code",
   "execution_count": 158,
   "metadata": {},
   "outputs": [],
   "source": [
    "list_red=booking_for10min['match_id']"
   ]
  },
  {
   "cell_type": "code",
   "execution_count": 159,
   "metadata": {},
   "outputs": [
    {
     "data": {
      "text/plain": [
       "867      <class 'list'>\n",
       "1900     <class 'list'>\n",
       "2320     <class 'list'>\n",
       "5296     <class 'list'>\n",
       "5527     <class 'list'>\n",
       "6151     <class 'list'>\n",
       "6621     <class 'list'>\n",
       "7563     <class 'list'>\n",
       "8344     <class 'list'>\n",
       "9029     <class 'list'>\n",
       "9377     <class 'list'>\n",
       "10781    <class 'list'>\n",
       "10838    <class 'list'>\n",
       "10850    <class 'list'>\n",
       "11037    <class 'list'>\n",
       "13986    <class 'list'>\n",
       "15024    <class 'list'>\n",
       "Name: match_id, dtype: object"
      ]
     },
     "execution_count": 159,
     "metadata": {},
     "output_type": "execute_result"
    }
   ],
   "source": [
    "list_red"
   ]
  },
  {
   "cell_type": "code",
   "execution_count": 160,
   "metadata": {},
   "outputs": [],
   "source": [
    "bets_pivot['red_card_flag'] = np.where(bets_pivot['match_id'].isin(list_red), \n",
    "                             1, 0)"
   ]
  },
  {
   "cell_type": "code",
   "execution_count": 163,
   "metadata": {},
   "outputs": [
    {
     "name": "stdout",
     "output_type": "stream",
     "text": [
      "<class 'pandas.core.frame.DataFrame'>\n",
      "RangeIndex: 11825 entries, 0 to 11824\n",
      "Data columns (total 5 columns):\n",
      "match_id       11825 non-null int64\n",
      "time           11825 non-null object\n",
      "home_scorer    6744 non-null object\n",
      "score          11825 non-null object\n",
      "away_scorer    5045 non-null object\n",
      "dtypes: int64(1), object(4)\n",
      "memory usage: 462.0+ KB\n"
     ]
    }
   ],
   "source": [
    "goals.info()"
   ]
  },
  {
   "cell_type": "code",
   "execution_count": 171,
   "metadata": {},
   "outputs": [],
   "source": [
    "goals_after_90 = goals[goals['time']>'90']"
   ]
  },
  {
   "cell_type": "code",
   "execution_count": 175,
   "metadata": {},
   "outputs": [
    {
     "name": "stderr",
     "output_type": "stream",
     "text": [
      "C:\\Users\\elif.erdem\\AppData\\Local\\Continuum\\anaconda3\\lib\\site-packages\\ipykernel_launcher.py:1: SettingWithCopyWarning: \n",
      "A value is trying to be set on a copy of a slice from a DataFrame.\n",
      "Try using .loc[row_indexer,col_indexer] = value instead\n",
      "\n",
      "See the caveats in the documentation: http://pandas.pydata.org/pandas-docs/stable/indexing.html#indexing-view-versus-copy\n",
      "  \"\"\"Entry point for launching an IPython kernel.\n",
      "C:\\Users\\elif.erdem\\AppData\\Local\\Continuum\\anaconda3\\lib\\site-packages\\ipykernel_launcher.py:2: SettingWithCopyWarning: \n",
      "A value is trying to be set on a copy of a slice from a DataFrame.\n",
      "Try using .loc[row_indexer,col_indexer] = value instead\n",
      "\n",
      "See the caveats in the documentation: http://pandas.pydata.org/pandas-docs/stable/indexing.html#indexing-view-versus-copy\n",
      "  \n"
     ]
    }
   ],
   "source": [
    "goals_after_90['Home_Score']=[int(i.split(' - ', 1)[0]) for i in goals_after_90['score']]\n",
    "goals_after_90['Away_Score']=[int(i.split(' - ', 1)[1]) for i in goals_after_90['score']]"
   ]
  },
  {
   "cell_type": "code",
   "execution_count": 180,
   "metadata": {},
   "outputs": [
    {
     "name": "stderr",
     "output_type": "stream",
     "text": [
      "C:\\Users\\elif.erdem\\AppData\\Local\\Continuum\\anaconda3\\lib\\site-packages\\ipykernel_launcher.py:2: SettingWithCopyWarning: \n",
      "A value is trying to be set on a copy of a slice from a DataFrame.\n",
      "Try using .loc[row_indexer,col_indexer] = value instead\n",
      "\n",
      "See the caveats in the documentation: http://pandas.pydata.org/pandas-docs/stable/indexing.html#indexing-view-versus-copy\n",
      "  \n"
     ]
    }
   ],
   "source": [
    "goals_after_90['Is_Draw'] = np.where(goals_after_90['Home_Score'] - goals_after_90['Away_Score']==0,\n",
    "                             1, 0)"
   ]
  },
  {
   "cell_type": "code",
   "execution_count": 182,
   "metadata": {},
   "outputs": [
    {
     "name": "stderr",
     "output_type": "stream",
     "text": [
      "C:\\Users\\elif.erdem\\AppData\\Local\\Continuum\\anaconda3\\lib\\site-packages\\ipykernel_launcher.py:2: SettingWithCopyWarning: \n",
      "A value is trying to be set on a copy of a slice from a DataFrame.\n",
      "Try using .loc[row_indexer,col_indexer] = value instead\n",
      "\n",
      "See the caveats in the documentation: http://pandas.pydata.org/pandas-docs/stable/indexing.html#indexing-view-versus-copy\n",
      "  \n"
     ]
    }
   ],
   "source": [
    "goals_after_90['Is_Draw_Previous'] =  np.where(abs(goals_after_90['Home_Score'] - goals_after_90['Away_Score'])==1,\n",
    "                             1, 0)"
   ]
  },
  {
   "cell_type": "code",
   "execution_count": 192,
   "metadata": {},
   "outputs": [],
   "source": [
    "goals_after = goals_after_90[(goals_after_90['Is_Draw']==1) | (goals_after_90['Is_Draw_Previous']==1) ]"
   ]
  },
  {
   "cell_type": "code",
   "execution_count": 194,
   "metadata": {},
   "outputs": [
    {
     "data": {
      "text/html": [
       "<div>\n",
       "<style scoped>\n",
       "    .dataframe tbody tr th:only-of-type {\n",
       "        vertical-align: middle;\n",
       "    }\n",
       "\n",
       "    .dataframe tbody tr th {\n",
       "        vertical-align: top;\n",
       "    }\n",
       "\n",
       "    .dataframe thead th {\n",
       "        text-align: right;\n",
       "    }\n",
       "</style>\n",
       "<table border=\"1\" class=\"dataframe\">\n",
       "  <thead>\n",
       "    <tr style=\"text-align: right;\">\n",
       "      <th></th>\n",
       "      <th>match_id</th>\n",
       "      <th>odd_bookmakers</th>\n",
       "      <th>odd_epoch</th>\n",
       "      <th>odd_1</th>\n",
       "      <th>odd_2</th>\n",
       "      <th>odd_x</th>\n",
       "      <th>prob_odd_1</th>\n",
       "      <th>prob_odd_x</th>\n",
       "      <th>prob_odd_2</th>\n",
       "      <th>normalization</th>\n",
       "      <th>norm_odd_1</th>\n",
       "      <th>norm_odd_2</th>\n",
       "      <th>norm_odd_x</th>\n",
       "      <th>match_hometeam_score</th>\n",
       "      <th>match_awayteam_score</th>\n",
       "      <th>match_hometeam_extra_score</th>\n",
       "      <th>match_awayteam_extra_score</th>\n",
       "      <th>home-away</th>\n",
       "      <th>draw_flag</th>\n",
       "      <th>red_card_flag</th>\n",
       "    </tr>\n",
       "  </thead>\n",
       "  <tbody>\n",
       "    <tr>\n",
       "      <th>0</th>\n",
       "      <td>150842</td>\n",
       "      <td>Marathonbet</td>\n",
       "      <td>1486711421</td>\n",
       "      <td>5.2</td>\n",
       "      <td>1.75</td>\n",
       "      <td>3.7</td>\n",
       "      <td>0.192308</td>\n",
       "      <td>0.27027</td>\n",
       "      <td>0.571429</td>\n",
       "      <td>1.034007</td>\n",
       "      <td>0.185983</td>\n",
       "      <td>0.552635</td>\n",
       "      <td>0.261382</td>\n",
       "      <td>0.0</td>\n",
       "      <td>0.0</td>\n",
       "      <td>0.0</td>\n",
       "      <td>0.0</td>\n",
       "      <td>-0.379121</td>\n",
       "      <td>1</td>\n",
       "      <td>0</td>\n",
       "    </tr>\n",
       "    <tr>\n",
       "      <th>1</th>\n",
       "      <td>150844</td>\n",
       "      <td>Marathonbet</td>\n",
       "      <td>1486711426</td>\n",
       "      <td>3.1</td>\n",
       "      <td>2.44</td>\n",
       "      <td>3.3</td>\n",
       "      <td>0.322581</td>\n",
       "      <td>0.30303</td>\n",
       "      <td>0.409836</td>\n",
       "      <td>1.035447</td>\n",
       "      <td>0.311538</td>\n",
       "      <td>0.395806</td>\n",
       "      <td>0.292657</td>\n",
       "      <td>3.0</td>\n",
       "      <td>1.0</td>\n",
       "      <td>1.0</td>\n",
       "      <td>0.0</td>\n",
       "      <td>-0.087255</td>\n",
       "      <td>0</td>\n",
       "      <td>0</td>\n",
       "    </tr>\n",
       "  </tbody>\n",
       "</table>\n",
       "</div>"
      ],
      "text/plain": [
       "   match_id odd_bookmakers   odd_epoch  odd_1  odd_2  odd_x  prob_odd_1  \\\n",
       "0    150842    Marathonbet  1486711421    5.2   1.75    3.7    0.192308   \n",
       "1    150844    Marathonbet  1486711426    3.1   2.44    3.3    0.322581   \n",
       "\n",
       "   prob_odd_x  prob_odd_2  normalization  norm_odd_1  norm_odd_2  norm_odd_x  \\\n",
       "0     0.27027    0.571429       1.034007    0.185983    0.552635    0.261382   \n",
       "1     0.30303    0.409836       1.035447    0.311538    0.395806    0.292657   \n",
       "\n",
       "   match_hometeam_score  match_awayteam_score  match_hometeam_extra_score  \\\n",
       "0                   0.0                   0.0                         0.0   \n",
       "1                   3.0                   1.0                         1.0   \n",
       "\n",
       "   match_awayteam_extra_score  home-away  draw_flag  red_card_flag  \n",
       "0                         0.0  -0.379121          1              0  \n",
       "1                         0.0  -0.087255          0              0  "
      ]
     },
     "execution_count": 194,
     "metadata": {},
     "output_type": "execute_result"
    }
   ],
   "source": [
    "bets_pivot.head(2)"
   ]
  },
  {
   "cell_type": "code",
   "execution_count": 195,
   "metadata": {},
   "outputs": [
    {
     "data": {
      "text/html": [
       "<div>\n",
       "<style scoped>\n",
       "    .dataframe tbody tr th:only-of-type {\n",
       "        vertical-align: middle;\n",
       "    }\n",
       "\n",
       "    .dataframe tbody tr th {\n",
       "        vertical-align: top;\n",
       "    }\n",
       "\n",
       "    .dataframe thead th {\n",
       "        text-align: right;\n",
       "    }\n",
       "</style>\n",
       "<table border=\"1\" class=\"dataframe\">\n",
       "  <thead>\n",
       "    <tr style=\"text-align: right;\">\n",
       "      <th></th>\n",
       "      <th>match_id</th>\n",
       "      <th>time</th>\n",
       "      <th>home_scorer</th>\n",
       "      <th>score</th>\n",
       "      <th>away_scorer</th>\n",
       "      <th>Home_Score</th>\n",
       "      <th>Away_Score</th>\n",
       "      <th>Is_Draw</th>\n",
       "      <th>Is_Draw_Previous</th>\n",
       "    </tr>\n",
       "  </thead>\n",
       "  <tbody>\n",
       "    <tr>\n",
       "      <th>13</th>\n",
       "      <td>13450</td>\n",
       "      <td>90+5</td>\n",
       "      <td>Bamba S.</td>\n",
       "      <td>1 - 1</td>\n",
       "      <td>NaN</td>\n",
       "      <td>1</td>\n",
       "      <td>1</td>\n",
       "      <td>1</td>\n",
       "      <td>0</td>\n",
       "    </tr>\n",
       "    <tr>\n",
       "      <th>125</th>\n",
       "      <td>45381</td>\n",
       "      <td>90+1</td>\n",
       "      <td>Mezenga B.</td>\n",
       "      <td>1 - 1</td>\n",
       "      <td>NaN</td>\n",
       "      <td>1</td>\n",
       "      <td>1</td>\n",
       "      <td>1</td>\n",
       "      <td>0</td>\n",
       "    </tr>\n",
       "  </tbody>\n",
       "</table>\n",
       "</div>"
      ],
      "text/plain": [
       "     match_id  time home_scorer  score away_scorer  Home_Score  Away_Score  \\\n",
       "13      13450  90+5    Bamba S.  1 - 1         NaN           1           1   \n",
       "125     45381  90+1  Mezenga B.  1 - 1         NaN           1           1   \n",
       "\n",
       "     Is_Draw  Is_Draw_Previous  \n",
       "13         1                 0  \n",
       "125        1                 0  "
      ]
     },
     "execution_count": 195,
     "metadata": {},
     "output_type": "execute_result"
    }
   ],
   "source": [
    "goals_after.head(2)"
   ]
  },
  {
   "cell_type": "code",
   "execution_count": 205,
   "metadata": {},
   "outputs": [],
   "source": [
    "bets_final = pd.merge(bets_pivot, goals_after, how='left', on='match_id')[bets_pivot.columns.tolist() + ['Is_Draw', 'Is_Draw_Previous'] ]"
   ]
  },
  {
   "cell_type": "code",
   "execution_count": 206,
   "metadata": {},
   "outputs": [
    {
     "data": {
      "text/html": [
       "<div>\n",
       "<style scoped>\n",
       "    .dataframe tbody tr th:only-of-type {\n",
       "        vertical-align: middle;\n",
       "    }\n",
       "\n",
       "    .dataframe tbody tr th {\n",
       "        vertical-align: top;\n",
       "    }\n",
       "\n",
       "    .dataframe thead th {\n",
       "        text-align: right;\n",
       "    }\n",
       "</style>\n",
       "<table border=\"1\" class=\"dataframe\">\n",
       "  <thead>\n",
       "    <tr style=\"text-align: right;\">\n",
       "      <th></th>\n",
       "      <th>match_id</th>\n",
       "      <th>odd_bookmakers</th>\n",
       "      <th>odd_epoch</th>\n",
       "      <th>odd_1</th>\n",
       "      <th>odd_2</th>\n",
       "      <th>odd_x</th>\n",
       "      <th>prob_odd_1</th>\n",
       "      <th>prob_odd_x</th>\n",
       "      <th>prob_odd_2</th>\n",
       "      <th>normalization</th>\n",
       "      <th>...</th>\n",
       "      <th>norm_odd_x</th>\n",
       "      <th>match_hometeam_score</th>\n",
       "      <th>match_awayteam_score</th>\n",
       "      <th>match_hometeam_extra_score</th>\n",
       "      <th>match_awayteam_extra_score</th>\n",
       "      <th>home-away</th>\n",
       "      <th>draw_flag</th>\n",
       "      <th>red_card_flag</th>\n",
       "      <th>Is_Draw</th>\n",
       "      <th>Is_Draw_Previous</th>\n",
       "    </tr>\n",
       "  </thead>\n",
       "  <tbody>\n",
       "    <tr>\n",
       "      <th>0</th>\n",
       "      <td>150842</td>\n",
       "      <td>Marathonbet</td>\n",
       "      <td>1486711421</td>\n",
       "      <td>5.20</td>\n",
       "      <td>1.75</td>\n",
       "      <td>3.70</td>\n",
       "      <td>0.192308</td>\n",
       "      <td>0.270270</td>\n",
       "      <td>0.571429</td>\n",
       "      <td>1.034007</td>\n",
       "      <td>...</td>\n",
       "      <td>0.261382</td>\n",
       "      <td>0.0</td>\n",
       "      <td>0.0</td>\n",
       "      <td>0.0</td>\n",
       "      <td>0.0</td>\n",
       "      <td>-0.379121</td>\n",
       "      <td>1</td>\n",
       "      <td>0</td>\n",
       "      <td>NaN</td>\n",
       "      <td>NaN</td>\n",
       "    </tr>\n",
       "    <tr>\n",
       "      <th>1</th>\n",
       "      <td>150844</td>\n",
       "      <td>Marathonbet</td>\n",
       "      <td>1486711426</td>\n",
       "      <td>3.10</td>\n",
       "      <td>2.44</td>\n",
       "      <td>3.30</td>\n",
       "      <td>0.322581</td>\n",
       "      <td>0.303030</td>\n",
       "      <td>0.409836</td>\n",
       "      <td>1.035447</td>\n",
       "      <td>...</td>\n",
       "      <td>0.292657</td>\n",
       "      <td>3.0</td>\n",
       "      <td>1.0</td>\n",
       "      <td>1.0</td>\n",
       "      <td>0.0</td>\n",
       "      <td>-0.087255</td>\n",
       "      <td>0</td>\n",
       "      <td>0</td>\n",
       "      <td>NaN</td>\n",
       "      <td>NaN</td>\n",
       "    </tr>\n",
       "    <tr>\n",
       "      <th>2</th>\n",
       "      <td>150844</td>\n",
       "      <td>bwin</td>\n",
       "      <td>1486711426</td>\n",
       "      <td>2.55</td>\n",
       "      <td>2.40</td>\n",
       "      <td>3.30</td>\n",
       "      <td>0.392157</td>\n",
       "      <td>0.303030</td>\n",
       "      <td>0.416667</td>\n",
       "      <td>1.111854</td>\n",
       "      <td>...</td>\n",
       "      <td>0.272545</td>\n",
       "      <td>3.0</td>\n",
       "      <td>1.0</td>\n",
       "      <td>1.0</td>\n",
       "      <td>0.0</td>\n",
       "      <td>-0.024510</td>\n",
       "      <td>0</td>\n",
       "      <td>0</td>\n",
       "      <td>NaN</td>\n",
       "      <td>NaN</td>\n",
       "    </tr>\n",
       "    <tr>\n",
       "      <th>3</th>\n",
       "      <td>156848</td>\n",
       "      <td>Unibet</td>\n",
       "      <td>1489911793</td>\n",
       "      <td>2.75</td>\n",
       "      <td>2.60</td>\n",
       "      <td>3.10</td>\n",
       "      <td>0.363636</td>\n",
       "      <td>0.322581</td>\n",
       "      <td>0.384615</td>\n",
       "      <td>1.070832</td>\n",
       "      <td>...</td>\n",
       "      <td>0.301243</td>\n",
       "      <td>3.0</td>\n",
       "      <td>1.0</td>\n",
       "      <td>1.0</td>\n",
       "      <td>1.0</td>\n",
       "      <td>-0.020979</td>\n",
       "      <td>0</td>\n",
       "      <td>0</td>\n",
       "      <td>NaN</td>\n",
       "      <td>NaN</td>\n",
       "    </tr>\n",
       "    <tr>\n",
       "      <th>4</th>\n",
       "      <td>156847</td>\n",
       "      <td>10Bet</td>\n",
       "      <td>1489911773</td>\n",
       "      <td>1.65</td>\n",
       "      <td>5.30</td>\n",
       "      <td>3.55</td>\n",
       "      <td>0.606061</td>\n",
       "      <td>0.281690</td>\n",
       "      <td>0.188679</td>\n",
       "      <td>1.076430</td>\n",
       "      <td>...</td>\n",
       "      <td>0.261689</td>\n",
       "      <td>2.0</td>\n",
       "      <td>0.0</td>\n",
       "      <td>2.0</td>\n",
       "      <td>0.0</td>\n",
       "      <td>0.417381</td>\n",
       "      <td>0</td>\n",
       "      <td>0</td>\n",
       "      <td>NaN</td>\n",
       "      <td>NaN</td>\n",
       "    </tr>\n",
       "  </tbody>\n",
       "</table>\n",
       "<p>5 rows × 22 columns</p>\n",
       "</div>"
      ],
      "text/plain": [
       "   match_id odd_bookmakers   odd_epoch  odd_1  odd_2  odd_x  prob_odd_1  \\\n",
       "0    150842    Marathonbet  1486711421   5.20   1.75   3.70    0.192308   \n",
       "1    150844    Marathonbet  1486711426   3.10   2.44   3.30    0.322581   \n",
       "2    150844           bwin  1486711426   2.55   2.40   3.30    0.392157   \n",
       "3    156848         Unibet  1489911793   2.75   2.60   3.10    0.363636   \n",
       "4    156847          10Bet  1489911773   1.65   5.30   3.55    0.606061   \n",
       "\n",
       "   prob_odd_x  prob_odd_2  normalization  ...  norm_odd_x  \\\n",
       "0    0.270270    0.571429       1.034007  ...    0.261382   \n",
       "1    0.303030    0.409836       1.035447  ...    0.292657   \n",
       "2    0.303030    0.416667       1.111854  ...    0.272545   \n",
       "3    0.322581    0.384615       1.070832  ...    0.301243   \n",
       "4    0.281690    0.188679       1.076430  ...    0.261689   \n",
       "\n",
       "   match_hometeam_score  match_awayteam_score  match_hometeam_extra_score  \\\n",
       "0                   0.0                   0.0                         0.0   \n",
       "1                   3.0                   1.0                         1.0   \n",
       "2                   3.0                   1.0                         1.0   \n",
       "3                   3.0                   1.0                         1.0   \n",
       "4                   2.0                   0.0                         2.0   \n",
       "\n",
       "   match_awayteam_extra_score  home-away  draw_flag  red_card_flag  Is_Draw  \\\n",
       "0                         0.0  -0.379121          1              0      NaN   \n",
       "1                         0.0  -0.087255          0              0      NaN   \n",
       "2                         0.0  -0.024510          0              0      NaN   \n",
       "3                         1.0  -0.020979          0              0      NaN   \n",
       "4                         0.0   0.417381          0              0      NaN   \n",
       "\n",
       "   Is_Draw_Previous  \n",
       "0               NaN  \n",
       "1               NaN  \n",
       "2               NaN  \n",
       "3               NaN  \n",
       "4               NaN  \n",
       "\n",
       "[5 rows x 22 columns]"
      ]
     },
     "execution_count": 206,
     "metadata": {},
     "output_type": "execute_result"
    }
   ],
   "source": [
    "bets_final.head()"
   ]
  },
  {
   "cell_type": "code",
   "execution_count": 207,
   "metadata": {},
   "outputs": [],
   "source": [
    "bets_final = bets_final[~((bets_final['red_card_flag']==1) | (bets_final['Is_Draw']==1) \n",
    "                        |(bets_final['Is_Draw_Previous']==1)) ]"
   ]
  },
  {
   "cell_type": "code",
   "execution_count": 230,
   "metadata": {},
   "outputs": [
    {
     "data": {
      "text/plain": [
       "<matplotlib.legend.Legend at 0x2532c273828>"
      ]
     },
     "execution_count": 230,
     "metadata": {},
     "output_type": "execute_result"
    },
    {
     "data": {
      "image/png": "[encoded data removed]",
      "text/plain": [
       "<Figure size 432x288 with 1 Axes>"
      ]
     },
     "metadata": {
      "needs_background": "light"
     },
     "output_type": "display_data"
    }
   ],
   "source": [
    "bin_data = bets_final[bets_final['odd_bookmakers']=='Unibet'][['home-away', 'draw_flag']]\n",
    "bins = [-1, -0.75, -0.5, -0.25, 0, 0.25, 0.5, 0.75, 1]\n",
    "bin_data['range'] = pd.cut(bin_data['home-away'], bins=[-1, -0.75, -0.5, -0.25, 0, 0.25, 0.5, 0.75, 1], right=True, labels=False)+1\n",
    "actual = bin_data.groupby(['range']).sum()/bin_data.groupby(['range']).count()\n",
    "bin_ranges = []\n",
    "for i in range(len(bins)-1):\n",
    "    bin_ranges.append((bins[i]+ bins[i+1])/2)\n",
    "ax = sns.scatterplot(x=\"home-away\", \n",
    "                       y=\"norm_odd_x\",\n",
    "                       data=bets_final[bets_final['odd_bookmakers']=='Unibet']).set_title('Unibet', fontsize = 15)\n",
    "\n",
    "\n",
    "plt.plot(bin_ranges,actual['draw_flag'])\n",
    "plt.xlabel('P(Home)-P(Away)')\n",
    "plt.ylabel('P(Draw)')\n",
    "plt.legend(loc='best', labels=['actual_outcome', 'bookmakers_probabilties'])"
   ]
  },
  {
   "cell_type": "code",
   "execution_count": 231,
   "metadata": {
    "scrolled": true
   },
   "outputs": [
    {
     "data": {
      "text/plain": [
       "<matplotlib.legend.Legend at 0x2532bfd30f0>"
      ]
     },
     "execution_count": 231,
     "metadata": {},
     "output_type": "execute_result"
    },
    {
     "data": {
      "image/png": "[encoded data removed]",
      "text/plain": [
       "<Figure size 432x288 with 1 Axes>"
      ]
     },
     "metadata": {
      "needs_background": "light"
     },
     "output_type": "display_data"
    }
   ],
   "source": [
    "bin_data = bets_final[bets_final['odd_bookmakers']=='bwin'][['home-away', 'draw_flag']]\n",
    "bins = [-1, -0.75, -0.5, -0.25, 0, 0.25, 0.5, 0.75, 1]\n",
    "bin_data['range'] = pd.cut(bin_data['home-away'], bins=[-1, -0.75, -0.5, -0.25, 0, 0.25, 0.5, 0.75, 1], right=True, labels=False)+1\n",
    "actual = bin_data.groupby(['range']).sum()/bin_data.groupby(['range']).count()\n",
    "bin_ranges = []\n",
    "for i in range(len(bins)-1):\n",
    "    bin_ranges.append((bins[i]+ bins[i+1])/2)\n",
    "ax = sns.scatterplot(x=\"home-away\", \n",
    "                       y=\"norm_odd_x\",\n",
    "                       data=bets_final[bets_final['odd_bookmakers']=='bwin']).set_title('bwin', fontsize = 15)\n",
    "\n",
    "\n",
    "plt.plot(bin_ranges,actual['draw_flag'])\n",
    "plt.xlabel('P(Home)-P(Away)')\n",
    "plt.ylabel('P(Draw)')\n",
    "plt.legend(loc='best', labels=['actual_outcome', 'bookmakers_probabilties'])"
   ]
  },
  {
   "cell_type": "code",
   "execution_count": 233,
   "metadata": {},
   "outputs": [
    {
     "data": {
      "text/plain": [
       "<matplotlib.legend.Legend at 0x25329ea1eb8>"
      ]
     },
     "execution_count": 233,
     "metadata": {},
     "output_type": "execute_result"
    },
    {
     "data": {
      "image/png": "[encoded data removed]",
      "text/plain": [
       "<Figure size 432x288 with 1 Axes>"
      ]
     },
     "metadata": {
      "needs_background": "light"
     },
     "output_type": "display_data"
    }
   ],
   "source": [
    "bin_data = bets_final[bets_final['odd_bookmakers']=='Marathonbet'][['home-away', 'draw_flag']]\n",
    "bins = [-1, -0.75, -0.5, -0.25, 0, 0.25, 0.5, 0.75, 1]\n",
    "bin_data['range'] = pd.cut(bin_data['home-away'], bins=[-1, -0.75, -0.5, -0.25, 0, 0.25, 0.5, 0.75, 1], right=True, labels=False)+1\n",
    "actual = bin_data.groupby(['range']).sum()/bin_data.groupby(['range']).count()\n",
    "bin_ranges = []\n",
    "for i in range(len(bins)-1):\n",
    "    bin_ranges.append((bins[i]+ bins[i+1])/2)\n",
    "ax = sns.scatterplot(x=\"home-away\", \n",
    "                       y=\"norm_odd_x\",\n",
    "                       data=bets_final[bets_final['odd_bookmakers']=='Marathonbet']).set_title('Marathonbet', fontsize = 15)\n",
    "\n",
    "\n",
    "plt.plot(bin_ranges,actual['draw_flag'])\n",
    "plt.xlabel('P(Home)-P(Away)')\n",
    "plt.ylabel('P(Draw)')\n",
    "plt.legend(loc='best', labels=['actual_outcome', 'bookmakers_probabilties'])"
   ]
  },
  {
   "cell_type": "code",
   "execution_count": 234,
   "metadata": {},
   "outputs": [
    {
     "data": {
      "text/plain": [
       "<matplotlib.legend.Legend at 0x25329b3b128>"
      ]
     },
     "execution_count": 234,
     "metadata": {},
     "output_type": "execute_result"
    },
    {
     "data": {
      "image/png": "[encoded data removed]",
      "text/plain": [
       "<Figure size 432x288 with 1 Axes>"
      ]
     },
     "metadata": {
      "needs_background": "light"
     },
     "output_type": "display_data"
    }
   ],
   "source": [
    "bin_data = bets_final[bets_final['odd_bookmakers']=='10Bet'][['home-away', 'draw_flag']]\n",
    "bins = [-1, -0.75, -0.5, -0.25, 0, 0.25, 0.5, 0.75, 1]\n",
    "bin_data['range'] = pd.cut(bin_data['home-away'], bins=[-1, -0.75, -0.5, -0.25, 0, 0.25, 0.5, 0.75, 1], right=True, labels=False)+1\n",
    "actual = bin_data.groupby(['range']).sum()/bin_data.groupby(['range']).count()\n",
    "bin_ranges = []\n",
    "for i in range(len(bins)-1):\n",
    "    bin_ranges.append((bins[i]+ bins[i+1])/2)\n",
    "ax = sns.scatterplot(x=\"home-away\", \n",
    "                       y=\"norm_odd_x\",\n",
    "                       data=bets_final[bets_final['odd_bookmakers']=='10Bet']).set_title('10Bet', fontsize = 15)\n",
    "\n",
    "\n",
    "plt.plot(bin_ranges,actual['draw_flag'])\n",
    "plt.xlabel('P(Home)-P(Away)')\n",
    "plt.ylabel('P(Draw)')\n",
    "plt.legend(loc='best', labels=['actual_outcome', 'bookmakers_probabilties'])"
   ]
  },
  {
   "cell_type": "markdown",
   "metadata": {},
   "source": [
    "* for each bookmaker, eventhough we can see a slight improvement compated to Task 2 as we expected by cleaning noise, the odds has not been well-aligned with the actual outcome. Since the number of red cards in the first ten minutes are very low, they were not effective as much as last minute goals."
   ]
  }
 ],
 "metadata": {
  "kernelspec": {
   "display_name": "Python 3",
   "language": "python",
   "name": "python3"
  },
  "language_info": {
   "codemirror_mode": {
    "name": "ipython",
    "version": 3
   },
   "file_extension": ".py",
   "mimetype": "text/x-python",
   "name": "python",
   "nbconvert_exporter": "python",
   "pygments_lexer": "ipython3",
   "version": "3.7.3"
  }
 },
 "nbformat": 4,
 "nbformat_minor": 2
}
