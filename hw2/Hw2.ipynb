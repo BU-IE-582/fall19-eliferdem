{
 "cells": [
  {
   "cell_type": "code",
   "execution_count": 1,
   "metadata": {},
   "outputs": [],
   "source": [
    "\n",
    "import numpy as np\n",
    "import matplotlib.pyplot as plt\n",
    "import pandas as pd\n",
    "\n",
    "from sklearn import manifold\n",
    "from sklearn.decomposition import PCA\n",
    "\n",
    "from skimage.color import rgb2gray\n",
    "from sklearn.preprocessing import StandardScaler\n",
    "\n",
    "from sklearn.feature_extraction import image\n"
   ]
  },
  {
   "cell_type": "markdown",
   "metadata": {},
   "source": [
    "## Data Reading / Control"
   ]
  },
  {
   "cell_type": "code",
   "execution_count": 2,
   "metadata": {},
   "outputs": [],
   "source": [
    "musk= pd.read_csv('Musk1.csv', header = None)"
   ]
  },
  {
   "cell_type": "code",
   "execution_count": 3,
   "metadata": {},
   "outputs": [
    {
     "name": "stdout",
     "output_type": "stream",
     "text": [
      "<class 'pandas.core.frame.DataFrame'>\n",
      "RangeIndex: 476 entries, 0 to 475\n",
      "Columns: 168 entries, 0 to 167\n",
      "dtypes: int64(168)\n",
      "memory usage: 624.8 KB\n"
     ]
    }
   ],
   "source": [
    "musk.info()"
   ]
  },
  {
   "cell_type": "code",
   "execution_count": 4,
   "metadata": {},
   "outputs": [
    {
     "data": {
      "text/html": [
       "<div>\n",
       "<style scoped>\n",
       "    .dataframe tbody tr th:only-of-type {\n",
       "        vertical-align: middle;\n",
       "    }\n",
       "\n",
       "    .dataframe tbody tr th {\n",
       "        vertical-align: top;\n",
       "    }\n",
       "\n",
       "    .dataframe thead th {\n",
       "        text-align: right;\n",
       "    }\n",
       "</style>\n",
       "<table border=\"1\" class=\"dataframe\">\n",
       "  <thead>\n",
       "    <tr style=\"text-align: right;\">\n",
       "      <th></th>\n",
       "      <th>0</th>\n",
       "      <th>1</th>\n",
       "      <th>2</th>\n",
       "      <th>3</th>\n",
       "      <th>4</th>\n",
       "      <th>5</th>\n",
       "      <th>6</th>\n",
       "      <th>7</th>\n",
       "      <th>8</th>\n",
       "      <th>9</th>\n",
       "      <th>...</th>\n",
       "      <th>158</th>\n",
       "      <th>159</th>\n",
       "      <th>160</th>\n",
       "      <th>161</th>\n",
       "      <th>162</th>\n",
       "      <th>163</th>\n",
       "      <th>164</th>\n",
       "      <th>165</th>\n",
       "      <th>166</th>\n",
       "      <th>167</th>\n",
       "    </tr>\n",
       "  </thead>\n",
       "  <tbody>\n",
       "    <tr>\n",
       "      <th>count</th>\n",
       "      <td>476.000000</td>\n",
       "      <td>476.000000</td>\n",
       "      <td>476.000000</td>\n",
       "      <td>476.000000</td>\n",
       "      <td>476.000000</td>\n",
       "      <td>476.000000</td>\n",
       "      <td>476.000000</td>\n",
       "      <td>476.000000</td>\n",
       "      <td>476.000000</td>\n",
       "      <td>476.000000</td>\n",
       "      <td>...</td>\n",
       "      <td>476.000000</td>\n",
       "      <td>476.000000</td>\n",
       "      <td>476.000000</td>\n",
       "      <td>476.000000</td>\n",
       "      <td>476.000000</td>\n",
       "      <td>476.000000</td>\n",
       "      <td>476.000000</td>\n",
       "      <td>476.000000</td>\n",
       "      <td>476.000000</td>\n",
       "      <td>476.000000</td>\n",
       "    </tr>\n",
       "    <tr>\n",
       "      <th>mean</th>\n",
       "      <td>0.434874</td>\n",
       "      <td>52.386555</td>\n",
       "      <td>38.731092</td>\n",
       "      <td>-120.142857</td>\n",
       "      <td>-79.243697</td>\n",
       "      <td>15.903361</td>\n",
       "      <td>-112.298319</td>\n",
       "      <td>-9.760504</td>\n",
       "      <td>-16.628151</td>\n",
       "      <td>7.762605</td>\n",
       "      <td>...</td>\n",
       "      <td>-221.728992</td>\n",
       "      <td>-204.405462</td>\n",
       "      <td>-108.262605</td>\n",
       "      <td>-25.231092</td>\n",
       "      <td>37.428571</td>\n",
       "      <td>79.752101</td>\n",
       "      <td>85.363445</td>\n",
       "      <td>-34.128151</td>\n",
       "      <td>-26.241597</td>\n",
       "      <td>33.714286</td>\n",
       "    </tr>\n",
       "    <tr>\n",
       "      <th>std</th>\n",
       "      <td>0.496262</td>\n",
       "      <td>26.908691</td>\n",
       "      <td>18.087948</td>\n",
       "      <td>88.313464</td>\n",
       "      <td>69.172519</td>\n",
       "      <td>75.515959</td>\n",
       "      <td>28.704947</td>\n",
       "      <td>92.025496</td>\n",
       "      <td>106.560891</td>\n",
       "      <td>75.786461</td>\n",
       "      <td>...</td>\n",
       "      <td>63.021801</td>\n",
       "      <td>89.566426</td>\n",
       "      <td>121.794583</td>\n",
       "      <td>65.588295</td>\n",
       "      <td>87.315888</td>\n",
       "      <td>49.269244</td>\n",
       "      <td>47.487575</td>\n",
       "      <td>16.019277</td>\n",
       "      <td>58.009205</td>\n",
       "      <td>54.189087</td>\n",
       "    </tr>\n",
       "    <tr>\n",
       "      <th>min</th>\n",
       "      <td>0.000000</td>\n",
       "      <td>1.000000</td>\n",
       "      <td>-9.000000</td>\n",
       "      <td>-199.000000</td>\n",
       "      <td>-166.000000</td>\n",
       "      <td>-115.000000</td>\n",
       "      <td>-117.000000</td>\n",
       "      <td>-184.000000</td>\n",
       "      <td>-170.000000</td>\n",
       "      <td>-231.000000</td>\n",
       "      <td>...</td>\n",
       "      <td>-252.000000</td>\n",
       "      <td>-324.000000</td>\n",
       "      <td>-217.000000</td>\n",
       "      <td>-135.000000</td>\n",
       "      <td>-126.000000</td>\n",
       "      <td>-78.000000</td>\n",
       "      <td>35.000000</td>\n",
       "      <td>-132.000000</td>\n",
       "      <td>-258.000000</td>\n",
       "      <td>-72.000000</td>\n",
       "    </tr>\n",
       "    <tr>\n",
       "      <th>25%</th>\n",
       "      <td>0.000000</td>\n",
       "      <td>29.000000</td>\n",
       "      <td>31.000000</td>\n",
       "      <td>-193.000000</td>\n",
       "      <td>-144.000000</td>\n",
       "      <td>-53.000000</td>\n",
       "      <td>-117.000000</td>\n",
       "      <td>-89.000000</td>\n",
       "      <td>-159.000000</td>\n",
       "      <td>-9.250000</td>\n",
       "      <td>...</td>\n",
       "      <td>-240.000000</td>\n",
       "      <td>-264.000000</td>\n",
       "      <td>-208.000000</td>\n",
       "      <td>-91.000000</td>\n",
       "      <td>-39.250000</td>\n",
       "      <td>33.000000</td>\n",
       "      <td>54.000000</td>\n",
       "      <td>-42.250000</td>\n",
       "      <td>-28.000000</td>\n",
       "      <td>-12.000000</td>\n",
       "    </tr>\n",
       "    <tr>\n",
       "      <th>50%</th>\n",
       "      <td>0.000000</td>\n",
       "      <td>56.500000</td>\n",
       "      <td>42.000000</td>\n",
       "      <td>-144.500000</td>\n",
       "      <td>-108.000000</td>\n",
       "      <td>28.000000</td>\n",
       "      <td>-117.000000</td>\n",
       "      <td>11.000000</td>\n",
       "      <td>41.000000</td>\n",
       "      <td>18.000000</td>\n",
       "      <td>...</td>\n",
       "      <td>-236.000000</td>\n",
       "      <td>-236.000000</td>\n",
       "      <td>-189.500000</td>\n",
       "      <td>-15.000000</td>\n",
       "      <td>31.500000</td>\n",
       "      <td>84.000000</td>\n",
       "      <td>69.000000</td>\n",
       "      <td>-36.000000</td>\n",
       "      <td>-11.000000</td>\n",
       "      <td>35.000000</td>\n",
       "    </tr>\n",
       "    <tr>\n",
       "      <th>75%</th>\n",
       "      <td>1.000000</td>\n",
       "      <td>81.000000</td>\n",
       "      <td>50.000000</td>\n",
       "      <td>-101.000000</td>\n",
       "      <td>-21.000000</td>\n",
       "      <td>38.000000</td>\n",
       "      <td>-117.000000</td>\n",
       "      <td>70.250000</td>\n",
       "      <td>51.000000</td>\n",
       "      <td>57.000000</td>\n",
       "      <td>...</td>\n",
       "      <td>-232.000000</td>\n",
       "      <td>-154.750000</td>\n",
       "      <td>30.000000</td>\n",
       "      <td>22.000000</td>\n",
       "      <td>128.000000</td>\n",
       "      <td>119.000000</td>\n",
       "      <td>99.000000</td>\n",
       "      <td>-28.000000</td>\n",
       "      <td>7.000000</td>\n",
       "      <td>74.000000</td>\n",
       "    </tr>\n",
       "    <tr>\n",
       "      <th>max</th>\n",
       "      <td>1.000000</td>\n",
       "      <td>92.000000</td>\n",
       "      <td>130.000000</td>\n",
       "      <td>98.000000</td>\n",
       "      <td>83.000000</td>\n",
       "      <td>157.000000</td>\n",
       "      <td>238.000000</td>\n",
       "      <td>200.000000</td>\n",
       "      <td>214.000000</td>\n",
       "      <td>188.000000</td>\n",
       "      <td>...</td>\n",
       "      <td>141.000000</td>\n",
       "      <td>72.000000</td>\n",
       "      <td>173.000000</td>\n",
       "      <td>185.000000</td>\n",
       "      <td>253.000000</td>\n",
       "      <td>291.000000</td>\n",
       "      <td>302.000000</td>\n",
       "      <td>24.000000</td>\n",
       "      <td>82.000000</td>\n",
       "      <td>235.000000</td>\n",
       "    </tr>\n",
       "  </tbody>\n",
       "</table>\n",
       "<p>8 rows × 168 columns</p>\n",
       "</div>"
      ],
      "text/plain": [
       "              0           1           2           3           4           5    \\\n",
       "count  476.000000  476.000000  476.000000  476.000000  476.000000  476.000000   \n",
       "mean     0.434874   52.386555   38.731092 -120.142857  -79.243697   15.903361   \n",
       "std      0.496262   26.908691   18.087948   88.313464   69.172519   75.515959   \n",
       "min      0.000000    1.000000   -9.000000 -199.000000 -166.000000 -115.000000   \n",
       "25%      0.000000   29.000000   31.000000 -193.000000 -144.000000  -53.000000   \n",
       "50%      0.000000   56.500000   42.000000 -144.500000 -108.000000   28.000000   \n",
       "75%      1.000000   81.000000   50.000000 -101.000000  -21.000000   38.000000   \n",
       "max      1.000000   92.000000  130.000000   98.000000   83.000000  157.000000   \n",
       "\n",
       "              6           7           8           9    ...         158  \\\n",
       "count  476.000000  476.000000  476.000000  476.000000  ...  476.000000   \n",
       "mean  -112.298319   -9.760504  -16.628151    7.762605  ... -221.728992   \n",
       "std     28.704947   92.025496  106.560891   75.786461  ...   63.021801   \n",
       "min   -117.000000 -184.000000 -170.000000 -231.000000  ... -252.000000   \n",
       "25%   -117.000000  -89.000000 -159.000000   -9.250000  ... -240.000000   \n",
       "50%   -117.000000   11.000000   41.000000   18.000000  ... -236.000000   \n",
       "75%   -117.000000   70.250000   51.000000   57.000000  ... -232.000000   \n",
       "max    238.000000  200.000000  214.000000  188.000000  ...  141.000000   \n",
       "\n",
       "              159         160         161         162         163         164  \\\n",
       "count  476.000000  476.000000  476.000000  476.000000  476.000000  476.000000   \n",
       "mean  -204.405462 -108.262605  -25.231092   37.428571   79.752101   85.363445   \n",
       "std     89.566426  121.794583   65.588295   87.315888   49.269244   47.487575   \n",
       "min   -324.000000 -217.000000 -135.000000 -126.000000  -78.000000   35.000000   \n",
       "25%   -264.000000 -208.000000  -91.000000  -39.250000   33.000000   54.000000   \n",
       "50%   -236.000000 -189.500000  -15.000000   31.500000   84.000000   69.000000   \n",
       "75%   -154.750000   30.000000   22.000000  128.000000  119.000000   99.000000   \n",
       "max     72.000000  173.000000  185.000000  253.000000  291.000000  302.000000   \n",
       "\n",
       "              165         166         167  \n",
       "count  476.000000  476.000000  476.000000  \n",
       "mean   -34.128151  -26.241597   33.714286  \n",
       "std     16.019277   58.009205   54.189087  \n",
       "min   -132.000000 -258.000000  -72.000000  \n",
       "25%    -42.250000  -28.000000  -12.000000  \n",
       "50%    -36.000000  -11.000000   35.000000  \n",
       "75%    -28.000000    7.000000   74.000000  \n",
       "max     24.000000   82.000000  235.000000  \n",
       "\n",
       "[8 rows x 168 columns]"
      ]
     },
     "execution_count": 4,
     "metadata": {},
     "output_type": "execute_result"
    }
   ],
   "source": [
    "musk.describe()"
   ]
  },
  {
   "cell_type": "code",
   "execution_count": 5,
   "metadata": {},
   "outputs": [
    {
     "data": {
      "text/html": [
       "<div>\n",
       "<style scoped>\n",
       "    .dataframe tbody tr th:only-of-type {\n",
       "        vertical-align: middle;\n",
       "    }\n",
       "\n",
       "    .dataframe tbody tr th {\n",
       "        vertical-align: top;\n",
       "    }\n",
       "\n",
       "    .dataframe thead th {\n",
       "        text-align: right;\n",
       "    }\n",
       "</style>\n",
       "<table border=\"1\" class=\"dataframe\">\n",
       "  <thead>\n",
       "    <tr style=\"text-align: right;\">\n",
       "      <th></th>\n",
       "      <th>0</th>\n",
       "      <th>1</th>\n",
       "      <th>2</th>\n",
       "      <th>3</th>\n",
       "      <th>4</th>\n",
       "      <th>5</th>\n",
       "      <th>6</th>\n",
       "      <th>7</th>\n",
       "      <th>8</th>\n",
       "      <th>9</th>\n",
       "      <th>...</th>\n",
       "      <th>158</th>\n",
       "      <th>159</th>\n",
       "      <th>160</th>\n",
       "      <th>161</th>\n",
       "      <th>162</th>\n",
       "      <th>163</th>\n",
       "      <th>164</th>\n",
       "      <th>165</th>\n",
       "      <th>166</th>\n",
       "      <th>167</th>\n",
       "    </tr>\n",
       "  </thead>\n",
       "  <tbody>\n",
       "    <tr>\n",
       "      <th>0</th>\n",
       "      <td>1</td>\n",
       "      <td>1</td>\n",
       "      <td>42</td>\n",
       "      <td>-198</td>\n",
       "      <td>-109</td>\n",
       "      <td>-75</td>\n",
       "      <td>-117</td>\n",
       "      <td>11</td>\n",
       "      <td>23</td>\n",
       "      <td>-88</td>\n",
       "      <td>...</td>\n",
       "      <td>-238</td>\n",
       "      <td>-74</td>\n",
       "      <td>-129</td>\n",
       "      <td>-120</td>\n",
       "      <td>-38</td>\n",
       "      <td>30</td>\n",
       "      <td>48</td>\n",
       "      <td>-37</td>\n",
       "      <td>6</td>\n",
       "      <td>30</td>\n",
       "    </tr>\n",
       "    <tr>\n",
       "      <th>1</th>\n",
       "      <td>1</td>\n",
       "      <td>1</td>\n",
       "      <td>42</td>\n",
       "      <td>-191</td>\n",
       "      <td>-142</td>\n",
       "      <td>-65</td>\n",
       "      <td>-117</td>\n",
       "      <td>55</td>\n",
       "      <td>49</td>\n",
       "      <td>-170</td>\n",
       "      <td>...</td>\n",
       "      <td>-238</td>\n",
       "      <td>-302</td>\n",
       "      <td>60</td>\n",
       "      <td>-120</td>\n",
       "      <td>-39</td>\n",
       "      <td>31</td>\n",
       "      <td>48</td>\n",
       "      <td>-37</td>\n",
       "      <td>5</td>\n",
       "      <td>30</td>\n",
       "    </tr>\n",
       "  </tbody>\n",
       "</table>\n",
       "<p>2 rows × 168 columns</p>\n",
       "</div>"
      ],
      "text/plain": [
       "   0    1    2    3    4    5    6    7    8    9    ...  158  159  160  161  \\\n",
       "0    1    1   42 -198 -109  -75 -117   11   23  -88  ... -238  -74 -129 -120   \n",
       "1    1    1   42 -191 -142  -65 -117   55   49 -170  ... -238 -302   60 -120   \n",
       "\n",
       "   162  163  164  165  166  167  \n",
       "0  -38   30   48  -37    6   30  \n",
       "1  -39   31   48  -37    5   30  \n",
       "\n",
       "[2 rows x 168 columns]"
      ]
     },
     "execution_count": 5,
     "metadata": {},
     "output_type": "execute_result"
    }
   ],
   "source": [
    "musk.head(2)"
   ]
  },
  {
   "cell_type": "code",
   "execution_count": 6,
   "metadata": {},
   "outputs": [],
   "source": [
    "header_part1 = ['Bag_Class', 'Bag_ID']"
   ]
  },
  {
   "cell_type": "code",
   "execution_count": 7,
   "metadata": {},
   "outputs": [],
   "source": [
    "musk.columns=header_part1+['Feature_'+str(x+1) for x in range(musk.shape[1]-len(header_part1))]"
   ]
  },
  {
   "cell_type": "markdown",
   "metadata": {},
   "source": [
    "## Task-1 - a - PCA Analysis"
   ]
  },
  {
   "cell_type": "code",
   "execution_count": 8,
   "metadata": {},
   "outputs": [],
   "source": [
    "def pca_analysis (df) : \n",
    "    Feature_List  = df.columns.to_list()\n",
    "    feature = [s for s in Feature_List if \"Feature\" in s]\n",
    "   # Separating out the features\n",
    "    x = df.loc[:, feature].values\n",
    "    # Separating out the target\n",
    "    y = df.loc[:,['Bag_Class']].values \n",
    "    x = StandardScaler().fit_transform(x)\n",
    "    pca = PCA(n_components=2)\n",
    "    principalComponents = pca.fit_transform(x)\n",
    "    principalDf = pd.DataFrame(data = principalComponents, columns = ['principal component 1', 'principal component 2'])\n",
    "    finalDf = pd.concat([principalDf, df[['Bag_Class']]], axis = 1)\n",
    "    fig = plt.figure(figsize = (8,8))\n",
    "    ax = fig.add_subplot(1,1,1) \n",
    "    ax.set_xlabel('Principal Component 1', fontsize = 15)\n",
    "    ax.set_ylabel('Principal Component 2', fontsize = 15)\n",
    "    ax.set_title('2 component PCA', fontsize = 20)\n",
    "    targets = [1,0]\n",
    "    colors = ['r', 'g', ]\n",
    "    for target, color in zip(targets,colors):\n",
    "        indicesToKeep = finalDf['Bag_Class'] == target\n",
    "        ax.scatter(finalDf.loc[indicesToKeep, 'principal component 1']\n",
    "                   , finalDf.loc[indicesToKeep, 'principal component 2']\n",
    "                   , c = color\n",
    "                   , s = 50)\n",
    "    ax.legend(targets)\n",
    "    ax.grid()\n",
    "\n",
    "    "
   ]
  },
  {
   "cell_type": "code",
   "execution_count": 9,
   "metadata": {},
   "outputs": [
    {
     "data": {
      "image/png": "[encoded data removed]",
      "text/plain": [
       "<Figure size 576x576 with 1 Axes>"
      ]
     },
     "metadata": {
      "needs_background": "light"
     },
     "output_type": "display_data"
    }
   ],
   "source": [
    "pca_analysis(musk)"
   ]
  },
  {
   "cell_type": "markdown",
   "metadata": {},
   "source": [
    "## Task-1 - a - MDS Analysis"
   ]
  },
  {
   "cell_type": "code",
   "execution_count": 10,
   "metadata": {},
   "outputs": [],
   "source": [
    "def plot_MDS(df):\n",
    "    Feature_List  = df.columns.to_list()\n",
    "    feature = [s for s in Feature_List if \"Feature\" in s]\n",
    "   # Separating out the features\n",
    "    x = df.loc[:, feature].values\n",
    "    # Separating out the target\n",
    "    y = df.loc[:,['Bag_Class']].values \n",
    "    mds=manifold.MDS(n_components=2, random_state=42)\n",
    "    x=mds.fit_transform(x)\n",
    "    principalDf = pd.DataFrame(data = x, columns = ['Component 1', 'Component 2'])\n",
    "    finalDf = pd.concat([principalDf, df[['Bag_Class']]], axis = 1)\n",
    "    fig = plt.figure(figsize = (8,8))\n",
    "    ax = fig.add_subplot(1,1,1) \n",
    "    ax.set_xlabel('Component 1', fontsize = 15)\n",
    "    ax.set_ylabel('Component 2', fontsize = 15)\n",
    "    ax.set_title('2 component MDS', fontsize = 20)\n",
    "    targets = [1,0]\n",
    "    colors = ['r', 'g', ]\n",
    "    for target, color in zip(targets,colors):\n",
    "        indicesToKeep = finalDf['Bag_Class'] == target\n",
    "        ax.scatter(finalDf.loc[indicesToKeep, 'Component 1']\n",
    "                   , finalDf.loc[indicesToKeep, 'Component 2']\n",
    "                   , c = color\n",
    "                   , s = 50)\n",
    "    ax.legend(targets)\n",
    "    ax.grid()"
   ]
  },
  {
   "cell_type": "code",
   "execution_count": 11,
   "metadata": {},
   "outputs": [
    {
     "data": {
      "image/png": "[encoded data removed]",
      "text/plain": [
       "<Figure size 576x576 with 1 Axes>"
      ]
     },
     "metadata": {
      "needs_background": "light"
     },
     "output_type": "display_data"
    }
   ],
   "source": [
    "plot_MDS(musk)"
   ]
  },
  {
   "cell_type": "markdown",
   "metadata": {},
   "source": [
    "Difference between PCA components variance is not low. Also MDS stress value is not low. Hence the data cannot be seperable easily on the graph"
   ]
  },
  {
   "cell_type": "markdown",
   "metadata": {},
   "source": [
    "## Task-1 - b - PCA Analysis\n"
   ]
  },
  {
   "cell_type": "code",
   "execution_count": 12,
   "metadata": {},
   "outputs": [],
   "source": [
    "musk_groupby =  musk.groupby(['Bag_ID']).mean()"
   ]
  },
  {
   "cell_type": "code",
   "execution_count": 13,
   "metadata": {
    "scrolled": true
   },
   "outputs": [
    {
     "data": {
      "image/png": "[encoded data removed]",
      "text/plain": [
       "<Figure size 576x576 with 1 Axes>"
      ]
     },
     "metadata": {
      "needs_background": "light"
     },
     "output_type": "display_data"
    }
   ],
   "source": [
    "pca_analysis(musk_groupby)"
   ]
  },
  {
   "cell_type": "markdown",
   "metadata": {},
   "source": [
    "## Task-1 - b - MDS Analysis"
   ]
  },
  {
   "cell_type": "code",
   "execution_count": null,
   "metadata": {},
   "outputs": [],
   "source": [
    "plot_MDS(musk_groupby)"
   ]
  },
  {
   "cell_type": "markdown",
   "metadata": {},
   "source": [
    "Second graphs of MDS and PCA are more fitted than the first ones. Because the variance values of components and stress value of MDS are more suitable for the better fit model"
   ]
  },
  {
   "cell_type": "markdown",
   "metadata": {},
   "source": [
    "## Bonus"
   ]
  },
  {
   "cell_type": "markdown",
   "metadata": {},
   "source": [
    "Min, max or median value of bag_ıd can be used as an approach to summarize the data for MIL."
   ]
  },
  {
   "cell_type": "markdown",
   "metadata": {},
   "source": [
    "### Task - 2 - 1"
   ]
  },
  {
   "cell_type": "code",
   "execution_count": null,
   "metadata": {},
   "outputs": [],
   "source": [
    "cat = plt.imread('cat.jpg')\n",
    "plt.imshow(cat)\n",
    "plt.show()"
   ]
  },
  {
   "cell_type": "code",
   "execution_count": null,
   "metadata": {},
   "outputs": [],
   "source": [
    "uniform = np.random.uniform(cat.min(),cat.max()/10,(256,256,3))\n",
    "noisy_image = (cat + uniform)\n",
    "noisy_image = noisy_image.astype('uint8')\n",
    "plt.imshow(noisy_image)"
   ]
  },
  {
   "cell_type": "markdown",
   "metadata": {},
   "source": [
    "## Task 2-2-b"
   ]
  },
  {
   "cell_type": "code",
   "execution_count": null,
   "metadata": {
    "scrolled": true
   },
   "outputs": [],
   "source": [
    "\n",
    "\n",
    "# Read\n",
    "img = noisy_image\n",
    "\n",
    "# Split\n",
    "red = img[:, :, 0]\n",
    "green = img[:, :, 1]\n",
    "blue = img[:, :, 2]\n",
    "\n",
    "# Plot\n",
    "fig, axs = plt.subplots(1,4,figsize=(12,12))\n",
    "\n",
    "cat_original = axs[0].imshow(img)\n",
    "\n",
    "cat_red = axs[1].imshow(red, cmap='Reds')\n",
    "\n",
    "cat_green = axs[2].imshow(green, cmap='Greens')\n",
    "\n",
    "cat_blue = axs[3].imshow(blue, cmap='Blues')\n",
    "\n",
    "\n",
    "\n",
    "plt.show()"
   ]
  },
  {
   "cell_type": "code",
   "execution_count": null,
   "metadata": {},
   "outputs": [],
   "source": [
    "gray = rgb2gray(noisy_image)\n",
    "plt.imshow(gray, cmap = plt.get_cmap('gray'))\n"
   ]
  },
  {
   "cell_type": "markdown",
   "metadata": {},
   "source": [
    "## Task-3-a"
   ]
  },
  {
   "cell_type": "code",
   "execution_count": null,
   "metadata": {},
   "outputs": [],
   "source": [
    "patches = image.extract_patches_2d(gray,(25, 25))"
   ]
  },
  {
   "cell_type": "code",
   "execution_count": null,
   "metadata": {},
   "outputs": [],
   "source": [
    "patches_reshape = patches.reshape(patches.shape[0],-1)"
   ]
  },
  {
   "cell_type": "code",
   "execution_count": null,
   "metadata": {},
   "outputs": [],
   "source": [
    "patches_reshape.shape"
   ]
  },
  {
   "cell_type": "code",
   "execution_count": null,
   "metadata": {},
   "outputs": [],
   "source": [
    "pca = PCA(n_components=3)\n",
    "principalComponents = pca.fit_transform(patches_reshape)\n",
    "principalDf = pd.DataFrame(data = principalComponents, columns = ['principal component 1', 'principal component 2', 'principal component 3'])\n",
    "\n",
    "\n",
    "component_1 = principalDf['principal component 1'].values\n",
    "component_2 = principalDf['principal component 2'].values\n",
    "component_3 = principalDf['principal component 3'].values\n",
    "\n",
    "\n",
    "fig, axs = plt.subplots(1,3,figsize=(12,12))\n",
    "\n",
    "compo_1 = axs[0].imshow(component_1.reshape(232,232),cmap='gray')\n",
    "\n",
    "compo_2 = axs[1].imshow(component_2.reshape(232,232),cmap='gray')\n",
    "\n",
    "compo_3 = axs[2].imshow(component_3.reshape(232,232),cmap='gray')"
   ]
  },
  {
   "cell_type": "code",
   "execution_count": null,
   "metadata": {},
   "outputs": [],
   "source": [
    "print(pca.explained_variance_ratio_)"
   ]
  },
  {
   "cell_type": "markdown",
   "metadata": {},
   "source": [
    "First component has a higher variance so first picture resembles to the original noise image than the other components picture."
   ]
  },
  {
   "cell_type": "code",
   "execution_count": null,
   "metadata": {},
   "outputs": [],
   "source": [
    "fig, axs = plt.subplots(1,3,figsize=(12,12))\n",
    "\n",
    "compo_1 = axs[0].imshow(pca.components_[0].reshape(25,25),cmap='gray')\n",
    "\n",
    "compo_2 = axs[1].imshow(pca.components_[1].reshape(25,25),cmap='gray')\n",
    "\n",
    "compo_3 = axs[2].imshow(pca.components_[2].reshape(25,25),cmap='gray')"
   ]
  },
  {
   "cell_type": "markdown",
   "metadata": {},
   "source": [
    "Each eigenvector emphasizes that different parts of the image."
   ]
  }
 ],
 "metadata": {
  "kernelspec": {
   "display_name": "Python 3",
   "language": "python",
   "name": "python3"
  },
  "language_info": {
   "codemirror_mode": {
    "name": "ipython",
    "version": 3
   },
   "file_extension": ".py",
   "mimetype": "text/x-python",
   "name": "python",
   "nbconvert_exporter": "python",
   "pygments_lexer": "ipython3",
   "version": "3.7.3"
  }
 },
 "nbformat": 4,
 "nbformat_minor": 2
}
